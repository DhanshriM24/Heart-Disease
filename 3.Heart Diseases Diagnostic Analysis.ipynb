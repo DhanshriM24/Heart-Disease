{
 "cells": [
  {
   "cell_type": "markdown",
   "id": "f22b744d",
   "metadata": {},
   "source": [
    "# ***Heart Disease Diagnostic Analysis***\n",
    "\n",
    "![images.png](data:image/png;base64,iVBORw0KGgoAAAANSUhEUgAAAaMAAAB4CAMAAABoxW2eAAAAz1BMVEX////WGybpcGzTAADmio3VARdsFhruc2/WGCTqdG/vdG9nERZoERbVDh7WFiLVABRhBw/kbWloFhrUAA377++sSEecGSD43+DcGyfjeX3++vrvuLr32tvhUlH55OXcZ2TaNDjhU1Lhb3PusbPpm57zy83nkpXgZ2y5UE/YJi3eSEnjW1nmZGHsqqyMMDHcUFbIWljxwcOcPDzdVFqIFx2GLC2oRUR6IiTic3fqnqHaPUTlgobeXWLbR055Fxvsqq1iAASmfn+XGR+TAA3AgoU1A4b1AAAPcklEQVR4nO2dC1fiShLHCW0ekHQSN7pewYGIgjCOinrxgXLd1/f/TNvPpPOkO+OS7Dn9P/fMEUwTbv1S1dVVndgz2pF51NOSlWbUfWlG3Zdm1H1pRt2XZtR9aUbdl2bUfWlG3Zdm1H1pRt2XZtR9aUbdl2bUfWlG3Zdm1H1pRt2XZtR97bGl4zi+j/5RML/UEM1IQXW29v1VvP2JFK986MtwQkMMNiQ2IHqhGX2DKq0NVz9v+wMk+s+vHzGsNjkDZIhDBv3b2K8iqxkpqMrc21/IyBkN+j+MGkoOjG8HuTGDwe0KllLSjBRUbu5tPweI2fyykhKMf5UP+bUqG6IZKajEfv6q3NxEP2EpVeO2ashgcFkS8DQjBZV4xM9qQtgvjKLFYVwzArlk0ZU0IwUVvajSI7jF47zF4Y/6If3BNu99mpGC8kHL+VVvbmzxHCS4hyoekg+RmpGC8l60H1EeEkFk74WU5aoZKSgXtWQQIYuv0jkJBzp7/XK8b8jW14waKovocm/UYkoY+Vs05DgMn/Z60srRjJopMxnFsoj6t8n8gl+tQ+t1uHeMrxk1U4aRLCE8JTksOOLJaOlZ1j4/6g9++JpRIwmI/H0pdEZ0CFlL2aeu5UlwFaKdZqQg0Y9UEJFo56zIj/aLZ4X7kgY8xNeMmkhwo0sVRCTaQVo0sp9cK5xKDEkdSTNSkMBICRGS47Oqkb2RY9S/9DWjBkoThq1SqEO65cFx+GpZ4VpmCNSMGih1o/0VnSoNQ8tyl3sTuzQb1IyUlDCCTQkhyTLqJ+m3HKPJ4/jxf22A/wMloU5+/VrQFDM6lWH0S5bRyfzuYweQzg9jhk4rYVTbNarXGjHyXmQY9aUYjR8gAJGJjwXzg1miu0oXsI0R2YTR3oId1mAlw+h6BzhLcDBDdFjfkDLYSxcxut9fsBOShj2x7oR1buHNgczQaSWM5LoSpYxOESN3I+VHkox6RyY5LLo6jBW6re9g9ORa9671nX7Um9GVFDg5jBW6re9gdO+9PrmeFKOtJCO6lciPD2KDvGYPrZy2Ut/BaONtXtzwO2PdBJCjgsWBrJDRJ/hs47TV+o4yA0oYTl2Zwrc0o7uIhrqLA1lB1Czq2iz4Dbl333Oflp5UUXXAT7eH0TOZjpzoQEYQNYs6Nwsma1jlkmqi49A7XbtSjOTWsL0RDXVwdigrpLqJDH93+NPWKmG0UmRkT9dsBpqG7nIdhmuJCUmyFvRIGUXjQ1kh0QMKssH7wU9bL85IuaY6DUNWRl2H7hpzkmD0U47RudlO5n22wicGkwOfdp8SRoptWLwoeiVUbBTnJBmljdh6RizzPnTMWZASVEsJf40SRoqFbxv39SijJZqLjkOpwrdcj++CZd7X7PXkKAbgptSpJndvWwCA85a/9icL9H6MguXJ4/jq6/rofJT8anTx9bYCxFsungHg32Ts0GTSXPRG/ODHN3RmAD8X85PeaNZW8TBhpNgrtz2L7TOx0dro2A7d/UVVYUNxfU01EDPv0RvAJXATjgoHjnH7AlvWMbMF8tE5CGCEfjnuvYMoioIopr84u/rYkpo6cdIxQBcNwJn26G6V1HFNBJccPDfQmcH2/BM3SSCI2lo2CYyUuhO4Z0RTORT1PISMFb6HdeWG9GS1jOi2Y8ckLyY+JWYE+SFXEIG4Orsml78v5unzwESJ+7g3Mczezk998h3Z2qQocGIwJ/4KH7DnRuIOTZo13GFqgDQZF8Bw2usdC99MxZFIP8Ilqdzw3rOGw1da+J5uNpU5uLgJsu7/94SGOpO09y6Syzs3T5xtgWNusW9RpIIjvQM0n4GzHnYUliLy1fDoigY0nBiMoqTgtABBwM8Dg4CMJQR5vMUvortvs7qa/hD00x4S2ZVKGZ2iWOeRKQjhebXtjYczCNvyvOpdxcL1UMdozIoM+ApGiPgc5gTiQe+IHYzJj3TBmybqC2xcQF6eAHqLhwOTgW+Qg7mh2aO/RS6zWCwefHZpLBbky60yPcYxaK/faP1lWX8x/Xm/2dwjPTG9IJ0iLbnWU25/+wkxolOQjXtHxJlQ+pBEwGF/inQsqL915BjdsJo38pEzYEafDJLji8cgDg7LzeOsH11jRJDNHRE3fDKSdj2CBYt06aHsxg6eGNBfp+SfYWs5+d9Eua6H/vPov1SuS96kCsPNlPrS8NXdsPBG0gU0Kbk2CXtk98lweu+FebnCmf7xz+qvREMQfEaRCYLPUe+dTkj4DS681GSuwkMjX0yNAQtlROxWXJBuXaFeh2Jf7AcUFw1nrIzLifUWQfakc9BaT/hPIu5Jf72ilBqJASqYGb21JK5kh97TvUvCGkm7kV+F5Md77F3D05CTTfhmLoY6Ruz6DlD035HEmPX7hCL4cyBYk9ZfIesnUFMnfsNnnzQnJO84Tu8KgOujKMXJroSknsrX0Ul9NVr9trEb6o+M4GUyIRF3YWFqyrR+Ci1a85mG3vLJ8+iPyHNsXPi2l164fkXkUMgL71mIPGX6u6h//fs/ld+IIUGmO6JrFx6EkiL4eSS6yioT6uidt/x3vPCXuiBde6FQC7Eb7qARMZw7P+OOnFEaQ3etdSyMrOrvbbWHOJ2zSVoXrl88skAipTqykB1uEDXkUCgv99bZzGMQ+5mLoZBIp6LTi79CDkXMx4JQOu3TaGa+ia8C9uqOptN8GwRbDQsZGQ1h4OKL8J8AwPCxiJnWNhYs5XdIkoffaK2Ml2O07wbkIfIX5EjEbZak1o3prOm/xygADpeutfHyBdb8bc41OQNDgg6IqL1YL8n8YAeMAJljmOlG5DkqLMNLfsevfd6HSmd74pSIN49c3G1YTp7WU3lKYfhB262KPKN9kI5JQQF5izektW6UhWNU+AXmZOPFrZXb3FBAVMMoae/dsEnkAWZjzowEIT7/PONX0GdmPCIXf7qSoimin84k1F3Mj6t8Is2yR+40PR5DyfBiheOgKjDaAwmvhoY4rXsd0jqq/YKzBTxBrTcunqCKm+2KiGoY0bzLgF/MiiwIsaoDTsfJa5YUzzDRIGaIRrnQNgL5k9G1VzQ3cvVadqRAM3UkA25/y8S/rSKjekgYyZS0XocotL0QlwqHhNGLi9mQYmumBl6CqJoRM5az5TPMVS7U3Qgt2tEz+iVM9xu/Mx/kwYmvhlOfofuN/IIbPRZo9nofEf+2QQvNRkEljGohoWzBW6KA5qF8myxi0ZoIp+DHOMThG1zQOtbN3HhZhqiaETOW4ZsswHxmQ51QKJosADRM8JBueqDhKZ33d4WWe0Bmr/Nt3jPezDzNZDh5v60yEFEZo9pnAJDEALeMSMCzcfAj2x89PA2RusPLvViyK0VUzeiDp7xsgc/9ituZ1cThzcwAUQDAm7Atha+s+LzPsjphs+sFS/tA/naM3FnYuZ3kq7fa9ytlVAcJJdgWzu6mpKqAGHnePanU8dpQ394X6OoYsWd8+vxCZ+EqWZTyR3HgpsTuKGtqxjdZSDEXFFruLKHeGrmzzkH2LEwTwMtXYpHj4CpnVAMJt4umZPlqP7k4WyCzUuW9fOWIKhmxSz+1801pqEOvz4oZsZGtuJ3xY9MjGeFCBZuvm/PudZHkDW06UgWjGkhrlM69uhtcQUXpA5qaSAcWF+xei12+CkSVjHhtLlnTUzdKghC74LM1cCa+DI3Za5YhCi33hHA+meZ0C0k2nx7ba0z0ap55WwnJDr170tEjGxlw+kCyuOOyzlFc8TjVSka8IsOvWp5vsSSPr55Ktzo8Zqui3LzCNp+rXODkusiORJdCMsvdsU9J8soWVMmoEpLNi9ukaDdMdm2VdGArEVUx4q6QpF3nuSC0KNbAE91lCIzM53ydLwmc+e2v17l6au8z/fy3oJzrAVXNqAoSae+RqQdXvIc1O1RXlYiqGI3zFZmAfgQOdXfYgh9pX04UmXHYpMKs+QnvyGta56NBjDlhPmNgJUJh4oqFqEcT+m76USUkspXhmEa9p+FpJaMaRFWMZrmKzDzdsHpGlqpHPDXPDDsisZHxoz62AHOa1kEcJq+I+eclC1WsjPfeYCcDQi74SEsTXZyPqiHZvCA3tFDqQJO7ogZ1iKoYUbdJKzIstGGLrcibX2ztL5rsIgakTcciFpnMFmDG1jw4gE1ok+Mol5tzce/Fn7LA18cEQOH2lkzTsA3VMiqHhBsTS7rbxLUQo/JHbtUiqmBUuNB3iV89UN/i+XRaEZjMAEXEMwIU3c5XYMU/DI07gRR6YW8Dk8BuTD4LDRVA4mGwzVuS6hlVQJrSjjleIKElbekmk3pEFYyY26QVmYivaGNed0iSeXA+Pzubv++AyQs1E87PgT667Hl6cX4XUb4n5QvVNJU4QYgIi7vMxnz8IOZW7rJJvkATSJwV7iKxUpAaogpG7EJPKzIsZTB8wLOItBpt4p2JgW+a8+xw/AmYMm+kwoBlhVfCfqOMGCP/4QbEJFfAjsX7syQxB61u09/HqO7B0KQ3bpVtUN2HqJzRJM0QmM5ZOg3SKfwciJ8DwU2agY15PZY4Iq/8+XywsN8oq+uIf9iO/g5lG44RPZM07yT2/XYRSfz9oxpIuOTgljw9Yy+ickZ4GykgG4C5RjsQBRGYiXWfIxDQv2Hhwwh8ZmLQM66v+ZFP3iS7Jx0IYp4ksk8vLn9H0MTjAsB3tcRR4ONDb76u0NnAts1A15P6G1XVkKah++R6hRsm9iMqZ3TCJL43f38f5ypzk8UOx7konn3la3YLZNqYb+V/jAEwP5PINmKfXtJUPZkFaNyCf9qIpIHz60+IThN/tP6oFQlGNZBC69UqMJJA1L3nbo0qX7QvGUaVkMhKKV/tlkHUPUZdlhSjKkj2xrLyT4CUQqQZqUiOUQUksus7e9O/HCLNSEWSjMoh4QcSZ58aLYlIM1KRLKNSSOSJW+JeOllEmpGKpBmVQsJbi4XuqzQizUhF8ozKIOGd3emD6+QRaUYqUmBU8lfgjkNhT6oCIs1IRSqMipDQAsnlpaDSv1+pGX2DlBgVINkbjz87Q8WLNCMlqTHKQ7KXIVseqSHSjFSkyKgAaT1tgkgzUpEqo/I/H6uKSDNSkTKjMkjKiDQjFakzKkJSR6QZqagBozykBog0IxU1YZSF1ASRZqSiRoxESI0QaUYqasYohdQMkWakooaMOKSGiDQjFTVlRCE1RaQZqagxIwSpbzRFpBmpqDkjw2+OSDNS0W8w+h1pRgrSjLovzaj70oy6L82o+9KMui/NqPvSjLovzaj70oy6L82o+9KMui/NqPP6L7dhcBru4GljAAAAAElFTkSuQmCC)\n",
    "\n",
    "Heart disease is a term covering any disorder of the heart. Heart diseases have \n",
    "become a major concern to deal with as studies show that the number of \n",
    "deaths due to heart diseases have increased significantly over the past few \n",
    "decades in India it has become the leading cause of death in India. A study \n",
    "shows that from 1990 to 2016 the death rate due to heart diseases have \n",
    "increased around 34% from 155.7 to 209.1 deaths per 1 lakh population in \n",
    "India. \n",
    "Thus, preventing heart diseases has become more than necessary. Good data-driven systems for predicting heart diseases can improve the entire research \n",
    "and prevention process, making sure that more people can live healthy lives."
   ]
  },
  {
   "cell_type": "code",
   "execution_count": 1,
   "id": "fe2e2698",
   "metadata": {},
   "outputs": [],
   "source": [
    "import pandas as pd\n",
    "import numpy as np\n",
    "import matplotlib.pyplot as plt\n",
    "import seaborn as sns"
   ]
  },
  {
   "cell_type": "markdown",
   "id": "700bb100",
   "metadata": {},
   "source": [
    "### Load dataset"
   ]
  },
  {
   "cell_type": "code",
   "execution_count": 2,
   "id": "c552f10a",
   "metadata": {},
   "outputs": [],
   "source": [
    "df=pd.read_csv(\"heart_disease_dataset.csv\")"
   ]
  },
  {
   "cell_type": "code",
   "execution_count": 3,
   "id": "60c5b7fc",
   "metadata": {},
   "outputs": [
    {
     "data": {
      "text/html": [
       "<div>\n",
       "<style scoped>\n",
       "    .dataframe tbody tr th:only-of-type {\n",
       "        vertical-align: middle;\n",
       "    }\n",
       "\n",
       "    .dataframe tbody tr th {\n",
       "        vertical-align: top;\n",
       "    }\n",
       "\n",
       "    .dataframe thead th {\n",
       "        text-align: right;\n",
       "    }\n",
       "</style>\n",
       "<table border=\"1\" class=\"dataframe\">\n",
       "  <thead>\n",
       "    <tr style=\"text-align: right;\">\n",
       "      <th></th>\n",
       "      <th>age</th>\n",
       "      <th>sex</th>\n",
       "      <th>cp</th>\n",
       "      <th>trestbps</th>\n",
       "      <th>chol</th>\n",
       "      <th>fbs</th>\n",
       "      <th>restecg</th>\n",
       "      <th>thalach</th>\n",
       "      <th>exang</th>\n",
       "      <th>oldpeak</th>\n",
       "      <th>slope</th>\n",
       "      <th>ca</th>\n",
       "      <th>thal</th>\n",
       "      <th>num</th>\n",
       "    </tr>\n",
       "  </thead>\n",
       "  <tbody>\n",
       "    <tr>\n",
       "      <th>0</th>\n",
       "      <td>63</td>\n",
       "      <td>1</td>\n",
       "      <td>1</td>\n",
       "      <td>145</td>\n",
       "      <td>233</td>\n",
       "      <td>1</td>\n",
       "      <td>2</td>\n",
       "      <td>150</td>\n",
       "      <td>0</td>\n",
       "      <td>2.3</td>\n",
       "      <td>3</td>\n",
       "      <td>0</td>\n",
       "      <td>6</td>\n",
       "      <td>0</td>\n",
       "    </tr>\n",
       "    <tr>\n",
       "      <th>1</th>\n",
       "      <td>67</td>\n",
       "      <td>1</td>\n",
       "      <td>4</td>\n",
       "      <td>160</td>\n",
       "      <td>286</td>\n",
       "      <td>0</td>\n",
       "      <td>2</td>\n",
       "      <td>108</td>\n",
       "      <td>1</td>\n",
       "      <td>1.5</td>\n",
       "      <td>2</td>\n",
       "      <td>3</td>\n",
       "      <td>3</td>\n",
       "      <td>1</td>\n",
       "    </tr>\n",
       "    <tr>\n",
       "      <th>2</th>\n",
       "      <td>67</td>\n",
       "      <td>1</td>\n",
       "      <td>4</td>\n",
       "      <td>120</td>\n",
       "      <td>229</td>\n",
       "      <td>0</td>\n",
       "      <td>2</td>\n",
       "      <td>129</td>\n",
       "      <td>1</td>\n",
       "      <td>2.6</td>\n",
       "      <td>2</td>\n",
       "      <td>2</td>\n",
       "      <td>7</td>\n",
       "      <td>1</td>\n",
       "    </tr>\n",
       "    <tr>\n",
       "      <th>3</th>\n",
       "      <td>37</td>\n",
       "      <td>1</td>\n",
       "      <td>3</td>\n",
       "      <td>130</td>\n",
       "      <td>250</td>\n",
       "      <td>0</td>\n",
       "      <td>0</td>\n",
       "      <td>187</td>\n",
       "      <td>0</td>\n",
       "      <td>3.5</td>\n",
       "      <td>3</td>\n",
       "      <td>0</td>\n",
       "      <td>3</td>\n",
       "      <td>0</td>\n",
       "    </tr>\n",
       "    <tr>\n",
       "      <th>4</th>\n",
       "      <td>41</td>\n",
       "      <td>0</td>\n",
       "      <td>2</td>\n",
       "      <td>130</td>\n",
       "      <td>204</td>\n",
       "      <td>0</td>\n",
       "      <td>2</td>\n",
       "      <td>172</td>\n",
       "      <td>0</td>\n",
       "      <td>1.4</td>\n",
       "      <td>1</td>\n",
       "      <td>0</td>\n",
       "      <td>3</td>\n",
       "      <td>0</td>\n",
       "    </tr>\n",
       "    <tr>\n",
       "      <th>...</th>\n",
       "      <td>...</td>\n",
       "      <td>...</td>\n",
       "      <td>...</td>\n",
       "      <td>...</td>\n",
       "      <td>...</td>\n",
       "      <td>...</td>\n",
       "      <td>...</td>\n",
       "      <td>...</td>\n",
       "      <td>...</td>\n",
       "      <td>...</td>\n",
       "      <td>...</td>\n",
       "      <td>...</td>\n",
       "      <td>...</td>\n",
       "      <td>...</td>\n",
       "    </tr>\n",
       "    <tr>\n",
       "      <th>298</th>\n",
       "      <td>45</td>\n",
       "      <td>1</td>\n",
       "      <td>1</td>\n",
       "      <td>110</td>\n",
       "      <td>264</td>\n",
       "      <td>0</td>\n",
       "      <td>0</td>\n",
       "      <td>132</td>\n",
       "      <td>0</td>\n",
       "      <td>1.2</td>\n",
       "      <td>2</td>\n",
       "      <td>0</td>\n",
       "      <td>7</td>\n",
       "      <td>1</td>\n",
       "    </tr>\n",
       "    <tr>\n",
       "      <th>299</th>\n",
       "      <td>68</td>\n",
       "      <td>1</td>\n",
       "      <td>4</td>\n",
       "      <td>144</td>\n",
       "      <td>193</td>\n",
       "      <td>1</td>\n",
       "      <td>0</td>\n",
       "      <td>141</td>\n",
       "      <td>0</td>\n",
       "      <td>3.4</td>\n",
       "      <td>2</td>\n",
       "      <td>2</td>\n",
       "      <td>7</td>\n",
       "      <td>1</td>\n",
       "    </tr>\n",
       "    <tr>\n",
       "      <th>300</th>\n",
       "      <td>57</td>\n",
       "      <td>1</td>\n",
       "      <td>4</td>\n",
       "      <td>130</td>\n",
       "      <td>131</td>\n",
       "      <td>0</td>\n",
       "      <td>0</td>\n",
       "      <td>115</td>\n",
       "      <td>1</td>\n",
       "      <td>1.2</td>\n",
       "      <td>2</td>\n",
       "      <td>1</td>\n",
       "      <td>7</td>\n",
       "      <td>1</td>\n",
       "    </tr>\n",
       "    <tr>\n",
       "      <th>301</th>\n",
       "      <td>57</td>\n",
       "      <td>0</td>\n",
       "      <td>2</td>\n",
       "      <td>130</td>\n",
       "      <td>236</td>\n",
       "      <td>0</td>\n",
       "      <td>2</td>\n",
       "      <td>174</td>\n",
       "      <td>0</td>\n",
       "      <td>0.0</td>\n",
       "      <td>2</td>\n",
       "      <td>1</td>\n",
       "      <td>3</td>\n",
       "      <td>1</td>\n",
       "    </tr>\n",
       "    <tr>\n",
       "      <th>302</th>\n",
       "      <td>38</td>\n",
       "      <td>1</td>\n",
       "      <td>3</td>\n",
       "      <td>138</td>\n",
       "      <td>175</td>\n",
       "      <td>0</td>\n",
       "      <td>0</td>\n",
       "      <td>173</td>\n",
       "      <td>0</td>\n",
       "      <td>0.0</td>\n",
       "      <td>1</td>\n",
       "      <td>-100000</td>\n",
       "      <td>3</td>\n",
       "      <td>0</td>\n",
       "    </tr>\n",
       "  </tbody>\n",
       "</table>\n",
       "<p>303 rows × 14 columns</p>\n",
       "</div>"
      ],
      "text/plain": [
       "     age  sex  cp  trestbps  chol  fbs  restecg  thalach  exang  oldpeak  \\\n",
       "0     63    1   1       145   233    1        2      150      0      2.3   \n",
       "1     67    1   4       160   286    0        2      108      1      1.5   \n",
       "2     67    1   4       120   229    0        2      129      1      2.6   \n",
       "3     37    1   3       130   250    0        0      187      0      3.5   \n",
       "4     41    0   2       130   204    0        2      172      0      1.4   \n",
       "..   ...  ...  ..       ...   ...  ...      ...      ...    ...      ...   \n",
       "298   45    1   1       110   264    0        0      132      0      1.2   \n",
       "299   68    1   4       144   193    1        0      141      0      3.4   \n",
       "300   57    1   4       130   131    0        0      115      1      1.2   \n",
       "301   57    0   2       130   236    0        2      174      0      0.0   \n",
       "302   38    1   3       138   175    0        0      173      0      0.0   \n",
       "\n",
       "     slope      ca  thal  num  \n",
       "0        3       0     6    0  \n",
       "1        2       3     3    1  \n",
       "2        2       2     7    1  \n",
       "3        3       0     3    0  \n",
       "4        1       0     3    0  \n",
       "..     ...     ...   ...  ...  \n",
       "298      2       0     7    1  \n",
       "299      2       2     7    1  \n",
       "300      2       1     7    1  \n",
       "301      2       1     3    1  \n",
       "302      1 -100000     3    0  \n",
       "\n",
       "[303 rows x 14 columns]"
      ]
     },
     "execution_count": 3,
     "metadata": {},
     "output_type": "execute_result"
    }
   ],
   "source": [
    "df"
   ]
  },
  {
   "cell_type": "code",
   "execution_count": 4,
   "id": "1c013d26",
   "metadata": {},
   "outputs": [
    {
     "data": {
      "text/plain": [
       "(303, 14)"
      ]
     },
     "execution_count": 4,
     "metadata": {},
     "output_type": "execute_result"
    }
   ],
   "source": [
    "df.shape"
   ]
  },
  {
   "cell_type": "code",
   "execution_count": 5,
   "id": "020decbd",
   "metadata": {},
   "outputs": [
    {
     "name": "stdout",
     "output_type": "stream",
     "text": [
      "<class 'pandas.core.frame.DataFrame'>\n",
      "RangeIndex: 303 entries, 0 to 302\n",
      "Data columns (total 14 columns):\n",
      " #   Column    Non-Null Count  Dtype  \n",
      "---  ------    --------------  -----  \n",
      " 0   age       303 non-null    int64  \n",
      " 1   sex       303 non-null    int64  \n",
      " 2   cp        303 non-null    int64  \n",
      " 3   trestbps  303 non-null    int64  \n",
      " 4   chol      303 non-null    int64  \n",
      " 5   fbs       303 non-null    int64  \n",
      " 6   restecg   303 non-null    int64  \n",
      " 7   thalach   303 non-null    int64  \n",
      " 8   exang     303 non-null    int64  \n",
      " 9   oldpeak   303 non-null    float64\n",
      " 10  slope     303 non-null    int64  \n",
      " 11  ca        303 non-null    int64  \n",
      " 12  thal      303 non-null    int64  \n",
      " 13  num       303 non-null    int64  \n",
      "dtypes: float64(1), int64(13)\n",
      "memory usage: 33.3 KB\n"
     ]
    }
   ],
   "source": [
    "df.info()"
   ]
  },
  {
   "cell_type": "markdown",
   "id": "6a046cbb",
   "metadata": {},
   "source": [
    "### ATTRIBUTES\n",
    "\n",
    "There are thirteen features in Dataset<br>\n",
    "\n",
    "age: The person's age in years<br>\n",
    "\n",
    "sex: The person's sex (1 = male, 0 = female)<br>\n",
    "\n",
    "cp: The chest pain experienced (Value 1: typical angina, Value 2: atypical angina, Value 3: non-anginal pain, Value 4: asymptomatic)<br>\n",
    "\n",
    "trestbps: The person's resting blood pressure (mm/Hg on admission to the hospital)<br>\n",
    "\n",
    "chol: The person's cholesterol measurement in mg/dl<br>\n",
    "\n",
    "fbs: The person's fasting blood sugar (> 120 mg/dl, 1 = true; 0 = false)<br>\n",
    "\n",
    "restecg: Resting electrocardiographic measurement (0 = normal, 1 = having ST-T wave abnormality, 2 = showing probable or definite left ventricular hypertrophy by Estes' criteria)<br>\n",
    "\n",
    "thalach: The person's maximum heart rate achieved<br>\n",
    "\n",
    "exang: Exercise induced angina (1 = yes; 0 = no)<br>\n",
    "\n",
    "oldpeak: ST depression induced by exercise relative to rest<br>\n",
    "\n",
    "slope: the slope of the peak exercise ST segment (Value 2: upsloping, Value 1: flat, Value 0: downsloping)<br>\n",
    "\n",
    "ca: The number of major vessels (0-3)<br>\n",
    "\n",
    "thal: A blood disorder called thalassemia (3 = normal; 6 = fixed defect; 7 = reversable defectt)<br>\n",
    "\n",
    "num: Heart disease (0 = no, 1 = yes)<br>\n"
   ]
  },
  {
   "cell_type": "markdown",
   "id": "3528b25b",
   "metadata": {},
   "source": [
    "### PANDAS PROFILE REPORT"
   ]
  },
  {
   "cell_type": "code",
   "execution_count": 6,
   "id": "6e59d4df",
   "metadata": {},
   "outputs": [],
   "source": [
    "from pandas_profiling import ProfileReport"
   ]
  },
  {
   "cell_type": "code",
   "execution_count": 7,
   "id": "d8eec8f0",
   "metadata": {},
   "outputs": [],
   "source": [
    "profile=ProfileReport(df,title=\"pandas profile report\")"
   ]
  },
  {
   "cell_type": "code",
   "execution_count": 8,
   "id": "cc085fab",
   "metadata": {},
   "outputs": [
    {
     "data": {
      "application/vnd.jupyter.widget-view+json": {
       "model_id": "d6691f253ae944d8b926356579cd14f0",
       "version_major": 2,
       "version_minor": 0
      },
      "text/plain": [
       "Summarize dataset:   0%|          | 0/5 [00:00<?, ?it/s]"
      ]
     },
     "metadata": {},
     "output_type": "display_data"
    },
    {
     "data": {
      "application/vnd.jupyter.widget-view+json": {
       "model_id": "d59bd16bb9c448f59f2d9423aa48235f",
       "version_major": 2,
       "version_minor": 0
      },
      "text/plain": [
       "Generate report structure:   0%|          | 0/1 [00:00<?, ?it/s]"
      ]
     },
     "metadata": {},
     "output_type": "display_data"
    },
    {
     "data": {
      "application/vnd.jupyter.widget-view+json": {
       "model_id": "",
       "version_major": 2,
       "version_minor": 0
      },
      "text/plain": [
       "Render widgets:   0%|          | 0/1 [00:00<?, ?it/s]"
      ]
     },
     "metadata": {},
     "output_type": "display_data"
    },
    {
     "data": {
      "application/vnd.jupyter.widget-view+json": {
       "model_id": "ebca6e33f4bd4946b6a94d10e9057706",
       "version_major": 2,
       "version_minor": 0
      },
      "text/plain": [
       "VBox(children=(Tab(children=(Tab(children=(GridBox(children=(VBox(children=(GridspecLayout(children=(HTML(valu…"
      ]
     },
     "metadata": {},
     "output_type": "display_data"
    }
   ],
   "source": [
    "profile.to_widgets()"
   ]
  },
  {
   "cell_type": "code",
   "execution_count": 6,
   "id": "2613fa8a",
   "metadata": {},
   "outputs": [
    {
     "data": {
      "text/plain": [
       "age         0\n",
       "sex         0\n",
       "cp          0\n",
       "trestbps    0\n",
       "chol        0\n",
       "fbs         0\n",
       "restecg     0\n",
       "thalach     0\n",
       "exang       0\n",
       "oldpeak     0\n",
       "slope       0\n",
       "ca          0\n",
       "thal        0\n",
       "num         0\n",
       "dtype: int64"
      ]
     },
     "execution_count": 6,
     "metadata": {},
     "output_type": "execute_result"
    }
   ],
   "source": [
    "df.isnull().sum()"
   ]
  },
  {
   "cell_type": "markdown",
   "id": "a7407d8b",
   "metadata": {},
   "source": [
    "### Describing the basic statistics of the data."
   ]
  },
  {
   "cell_type": "code",
   "execution_count": 7,
   "id": "33d6ed07",
   "metadata": {},
   "outputs": [
    {
     "data": {
      "text/html": [
       "<div>\n",
       "<style scoped>\n",
       "    .dataframe tbody tr th:only-of-type {\n",
       "        vertical-align: middle;\n",
       "    }\n",
       "\n",
       "    .dataframe tbody tr th {\n",
       "        vertical-align: top;\n",
       "    }\n",
       "\n",
       "    .dataframe thead th {\n",
       "        text-align: right;\n",
       "    }\n",
       "</style>\n",
       "<table border=\"1\" class=\"dataframe\">\n",
       "  <thead>\n",
       "    <tr style=\"text-align: right;\">\n",
       "      <th></th>\n",
       "      <th>age</th>\n",
       "      <th>sex</th>\n",
       "      <th>cp</th>\n",
       "      <th>trestbps</th>\n",
       "      <th>chol</th>\n",
       "      <th>fbs</th>\n",
       "      <th>restecg</th>\n",
       "      <th>thalach</th>\n",
       "      <th>exang</th>\n",
       "      <th>oldpeak</th>\n",
       "      <th>slope</th>\n",
       "      <th>ca</th>\n",
       "      <th>thal</th>\n",
       "      <th>num</th>\n",
       "    </tr>\n",
       "  </thead>\n",
       "  <tbody>\n",
       "    <tr>\n",
       "      <th>count</th>\n",
       "      <td>303.000000</td>\n",
       "      <td>303.000000</td>\n",
       "      <td>303.000000</td>\n",
       "      <td>303.000000</td>\n",
       "      <td>303.000000</td>\n",
       "      <td>303.000000</td>\n",
       "      <td>303.000000</td>\n",
       "      <td>303.000000</td>\n",
       "      <td>303.000000</td>\n",
       "      <td>303.000000</td>\n",
       "      <td>303.000000</td>\n",
       "      <td>303.000000</td>\n",
       "      <td>303.000000</td>\n",
       "      <td>303.000000</td>\n",
       "    </tr>\n",
       "    <tr>\n",
       "      <th>mean</th>\n",
       "      <td>54.438944</td>\n",
       "      <td>0.679868</td>\n",
       "      <td>3.158416</td>\n",
       "      <td>131.689769</td>\n",
       "      <td>246.693069</td>\n",
       "      <td>0.148515</td>\n",
       "      <td>0.990099</td>\n",
       "      <td>149.607261</td>\n",
       "      <td>0.326733</td>\n",
       "      <td>1.039604</td>\n",
       "      <td>1.600660</td>\n",
       "      <td>-1319.468647</td>\n",
       "      <td>-655.363036</td>\n",
       "      <td>0.458746</td>\n",
       "    </tr>\n",
       "    <tr>\n",
       "      <th>std</th>\n",
       "      <td>9.038662</td>\n",
       "      <td>0.467299</td>\n",
       "      <td>0.960126</td>\n",
       "      <td>17.599748</td>\n",
       "      <td>51.776918</td>\n",
       "      <td>0.356198</td>\n",
       "      <td>0.994971</td>\n",
       "      <td>22.875003</td>\n",
       "      <td>0.469794</td>\n",
       "      <td>1.161075</td>\n",
       "      <td>0.616226</td>\n",
       "      <td>11432.566205</td>\n",
       "      <td>8111.366638</td>\n",
       "      <td>0.499120</td>\n",
       "    </tr>\n",
       "    <tr>\n",
       "      <th>min</th>\n",
       "      <td>29.000000</td>\n",
       "      <td>0.000000</td>\n",
       "      <td>1.000000</td>\n",
       "      <td>94.000000</td>\n",
       "      <td>126.000000</td>\n",
       "      <td>0.000000</td>\n",
       "      <td>0.000000</td>\n",
       "      <td>71.000000</td>\n",
       "      <td>0.000000</td>\n",
       "      <td>0.000000</td>\n",
       "      <td>1.000000</td>\n",
       "      <td>-100000.000000</td>\n",
       "      <td>-100000.000000</td>\n",
       "      <td>0.000000</td>\n",
       "    </tr>\n",
       "    <tr>\n",
       "      <th>25%</th>\n",
       "      <td>48.000000</td>\n",
       "      <td>0.000000</td>\n",
       "      <td>3.000000</td>\n",
       "      <td>120.000000</td>\n",
       "      <td>211.000000</td>\n",
       "      <td>0.000000</td>\n",
       "      <td>0.000000</td>\n",
       "      <td>133.500000</td>\n",
       "      <td>0.000000</td>\n",
       "      <td>0.000000</td>\n",
       "      <td>1.000000</td>\n",
       "      <td>0.000000</td>\n",
       "      <td>3.000000</td>\n",
       "      <td>0.000000</td>\n",
       "    </tr>\n",
       "    <tr>\n",
       "      <th>50%</th>\n",
       "      <td>56.000000</td>\n",
       "      <td>1.000000</td>\n",
       "      <td>3.000000</td>\n",
       "      <td>130.000000</td>\n",
       "      <td>241.000000</td>\n",
       "      <td>0.000000</td>\n",
       "      <td>1.000000</td>\n",
       "      <td>153.000000</td>\n",
       "      <td>0.000000</td>\n",
       "      <td>0.800000</td>\n",
       "      <td>2.000000</td>\n",
       "      <td>0.000000</td>\n",
       "      <td>3.000000</td>\n",
       "      <td>0.000000</td>\n",
       "    </tr>\n",
       "    <tr>\n",
       "      <th>75%</th>\n",
       "      <td>61.000000</td>\n",
       "      <td>1.000000</td>\n",
       "      <td>4.000000</td>\n",
       "      <td>140.000000</td>\n",
       "      <td>275.000000</td>\n",
       "      <td>0.000000</td>\n",
       "      <td>2.000000</td>\n",
       "      <td>166.000000</td>\n",
       "      <td>1.000000</td>\n",
       "      <td>1.600000</td>\n",
       "      <td>2.000000</td>\n",
       "      <td>1.000000</td>\n",
       "      <td>7.000000</td>\n",
       "      <td>1.000000</td>\n",
       "    </tr>\n",
       "    <tr>\n",
       "      <th>max</th>\n",
       "      <td>77.000000</td>\n",
       "      <td>1.000000</td>\n",
       "      <td>4.000000</td>\n",
       "      <td>200.000000</td>\n",
       "      <td>564.000000</td>\n",
       "      <td>1.000000</td>\n",
       "      <td>2.000000</td>\n",
       "      <td>202.000000</td>\n",
       "      <td>1.000000</td>\n",
       "      <td>6.200000</td>\n",
       "      <td>3.000000</td>\n",
       "      <td>3.000000</td>\n",
       "      <td>7.000000</td>\n",
       "      <td>1.000000</td>\n",
       "    </tr>\n",
       "  </tbody>\n",
       "</table>\n",
       "</div>"
      ],
      "text/plain": [
       "              age         sex          cp    trestbps        chol         fbs  \\\n",
       "count  303.000000  303.000000  303.000000  303.000000  303.000000  303.000000   \n",
       "mean    54.438944    0.679868    3.158416  131.689769  246.693069    0.148515   \n",
       "std      9.038662    0.467299    0.960126   17.599748   51.776918    0.356198   \n",
       "min     29.000000    0.000000    1.000000   94.000000  126.000000    0.000000   \n",
       "25%     48.000000    0.000000    3.000000  120.000000  211.000000    0.000000   \n",
       "50%     56.000000    1.000000    3.000000  130.000000  241.000000    0.000000   \n",
       "75%     61.000000    1.000000    4.000000  140.000000  275.000000    0.000000   \n",
       "max     77.000000    1.000000    4.000000  200.000000  564.000000    1.000000   \n",
       "\n",
       "          restecg     thalach       exang     oldpeak       slope  \\\n",
       "count  303.000000  303.000000  303.000000  303.000000  303.000000   \n",
       "mean     0.990099  149.607261    0.326733    1.039604    1.600660   \n",
       "std      0.994971   22.875003    0.469794    1.161075    0.616226   \n",
       "min      0.000000   71.000000    0.000000    0.000000    1.000000   \n",
       "25%      0.000000  133.500000    0.000000    0.000000    1.000000   \n",
       "50%      1.000000  153.000000    0.000000    0.800000    2.000000   \n",
       "75%      2.000000  166.000000    1.000000    1.600000    2.000000   \n",
       "max      2.000000  202.000000    1.000000    6.200000    3.000000   \n",
       "\n",
       "                  ca           thal         num  \n",
       "count     303.000000     303.000000  303.000000  \n",
       "mean    -1319.468647    -655.363036    0.458746  \n",
       "std     11432.566205    8111.366638    0.499120  \n",
       "min   -100000.000000 -100000.000000    0.000000  \n",
       "25%         0.000000       3.000000    0.000000  \n",
       "50%         0.000000       3.000000    0.000000  \n",
       "75%         1.000000       7.000000    1.000000  \n",
       "max         3.000000       7.000000    1.000000  "
      ]
     },
     "execution_count": 7,
     "metadata": {},
     "output_type": "execute_result"
    }
   ],
   "source": [
    "df.describe()"
   ]
  },
  {
   "cell_type": "code",
   "execution_count": 8,
   "id": "d7c29635",
   "metadata": {},
   "outputs": [
    {
     "data": {
      "text/plain": [
       "age          41\n",
       "sex           2\n",
       "cp            4\n",
       "trestbps     50\n",
       "chol        152\n",
       "fbs           2\n",
       "restecg       3\n",
       "thalach      91\n",
       "exang         2\n",
       "oldpeak      40\n",
       "slope         3\n",
       "ca            5\n",
       "thal          4\n",
       "num           2\n",
       "dtype: int64"
      ]
     },
     "execution_count": 8,
     "metadata": {},
     "output_type": "execute_result"
    }
   ],
   "source": [
    "df.nunique()"
   ]
  },
  {
   "cell_type": "markdown",
   "id": "edd71dff",
   "metadata": {},
   "source": [
    "### Checking Unique Values In CA"
   ]
  },
  {
   "cell_type": "code",
   "execution_count": 9,
   "id": "c06a1805",
   "metadata": {},
   "outputs": [
    {
     "data": {
      "text/plain": [
       " 0         176\n",
       " 1          65\n",
       " 2          38\n",
       " 3          20\n",
       "-100000      4\n",
       "Name: ca, dtype: int64"
      ]
     },
     "execution_count": 9,
     "metadata": {},
     "output_type": "execute_result"
    }
   ],
   "source": [
    "df['ca'].value_counts()"
   ]
  },
  {
   "cell_type": "markdown",
   "id": "3dbe2104",
   "metadata": {},
   "source": [
    "In \"ca\" there should be 4 values.The number of major vessels (0-3).Changing 5th Value to NAN."
   ]
  },
  {
   "cell_type": "code",
   "execution_count": 10,
   "id": "7c307c94",
   "metadata": {},
   "outputs": [],
   "source": [
    "df.loc[df['ca']==-100000,'ca']=np.NaN"
   ]
  },
  {
   "cell_type": "code",
   "execution_count": 11,
   "id": "0b98fe8a",
   "metadata": {},
   "outputs": [
    {
     "data": {
      "text/plain": [
       "0.0    176\n",
       "1.0     65\n",
       "2.0     38\n",
       "3.0     20\n",
       "Name: ca, dtype: int64"
      ]
     },
     "execution_count": 11,
     "metadata": {},
     "output_type": "execute_result"
    }
   ],
   "source": [
    "df['ca'].value_counts()"
   ]
  },
  {
   "cell_type": "markdown",
   "id": "35a4653a",
   "metadata": {},
   "source": [
    "### CHECKING UNIQUE VALUES IN thal"
   ]
  },
  {
   "cell_type": "code",
   "execution_count": 12,
   "id": "ffb9513f",
   "metadata": {},
   "outputs": [
    {
     "data": {
      "text/plain": [
       " 3         166\n",
       " 7         117\n",
       " 6          18\n",
       "-100000      2\n",
       "Name: thal, dtype: int64"
      ]
     },
     "execution_count": 12,
     "metadata": {},
     "output_type": "execute_result"
    }
   ],
   "source": [
    "df['thal'].value_counts()"
   ]
  },
  {
   "cell_type": "markdown",
   "id": "fb5c8a86",
   "metadata": {},
   "source": [
    "same as \"ca\" in \"thal\" we have 4 values but according to given information we have 3 so changing 4th value to nan"
   ]
  },
  {
   "cell_type": "code",
   "execution_count": 13,
   "id": "f110781c",
   "metadata": {},
   "outputs": [
    {
     "data": {
      "text/html": [
       "<div>\n",
       "<style scoped>\n",
       "    .dataframe tbody tr th:only-of-type {\n",
       "        vertical-align: middle;\n",
       "    }\n",
       "\n",
       "    .dataframe tbody tr th {\n",
       "        vertical-align: top;\n",
       "    }\n",
       "\n",
       "    .dataframe thead th {\n",
       "        text-align: right;\n",
       "    }\n",
       "</style>\n",
       "<table border=\"1\" class=\"dataframe\">\n",
       "  <thead>\n",
       "    <tr style=\"text-align: right;\">\n",
       "      <th></th>\n",
       "      <th>age</th>\n",
       "      <th>sex</th>\n",
       "      <th>cp</th>\n",
       "      <th>trestbps</th>\n",
       "      <th>chol</th>\n",
       "      <th>fbs</th>\n",
       "      <th>restecg</th>\n",
       "      <th>thalach</th>\n",
       "      <th>exang</th>\n",
       "      <th>oldpeak</th>\n",
       "      <th>slope</th>\n",
       "      <th>ca</th>\n",
       "      <th>thal</th>\n",
       "      <th>num</th>\n",
       "    </tr>\n",
       "  </thead>\n",
       "  <tbody>\n",
       "    <tr>\n",
       "      <th>87</th>\n",
       "      <td>53</td>\n",
       "      <td>0</td>\n",
       "      <td>3</td>\n",
       "      <td>128</td>\n",
       "      <td>216</td>\n",
       "      <td>0</td>\n",
       "      <td>2</td>\n",
       "      <td>115</td>\n",
       "      <td>0</td>\n",
       "      <td>0.0</td>\n",
       "      <td>1</td>\n",
       "      <td>0.0</td>\n",
       "      <td>-100000</td>\n",
       "      <td>0</td>\n",
       "    </tr>\n",
       "    <tr>\n",
       "      <th>266</th>\n",
       "      <td>52</td>\n",
       "      <td>1</td>\n",
       "      <td>4</td>\n",
       "      <td>128</td>\n",
       "      <td>204</td>\n",
       "      <td>1</td>\n",
       "      <td>0</td>\n",
       "      <td>156</td>\n",
       "      <td>1</td>\n",
       "      <td>1.0</td>\n",
       "      <td>2</td>\n",
       "      <td>0.0</td>\n",
       "      <td>-100000</td>\n",
       "      <td>1</td>\n",
       "    </tr>\n",
       "  </tbody>\n",
       "</table>\n",
       "</div>"
      ],
      "text/plain": [
       "     age  sex  cp  trestbps  chol  fbs  restecg  thalach  exang  oldpeak  \\\n",
       "87    53    0   3       128   216    0        2      115      0      0.0   \n",
       "266   52    1   4       128   204    1        0      156      1      1.0   \n",
       "\n",
       "     slope   ca    thal  num  \n",
       "87       1  0.0 -100000    0  \n",
       "266      2  0.0 -100000    1  "
      ]
     },
     "execution_count": 13,
     "metadata": {},
     "output_type": "execute_result"
    }
   ],
   "source": [
    "df[df['thal']==-100000]"
   ]
  },
  {
   "cell_type": "code",
   "execution_count": 14,
   "id": "ba771916",
   "metadata": {},
   "outputs": [],
   "source": [
    "df.loc[df['thal']==-100000,'thal']=np.NaN"
   ]
  },
  {
   "cell_type": "code",
   "execution_count": 15,
   "id": "be32410b",
   "metadata": {},
   "outputs": [
    {
     "data": {
      "text/plain": [
       "3.0    166\n",
       "7.0    117\n",
       "6.0     18\n",
       "Name: thal, dtype: int64"
      ]
     },
     "execution_count": 15,
     "metadata": {},
     "output_type": "execute_result"
    }
   ],
   "source": [
    "df['thal'].value_counts()"
   ]
  },
  {
   "cell_type": "code",
   "execution_count": 16,
   "id": "e8b306e1",
   "metadata": {},
   "outputs": [
    {
     "data": {
      "text/plain": [
       "age         0\n",
       "sex         0\n",
       "cp          0\n",
       "trestbps    0\n",
       "chol        0\n",
       "fbs         0\n",
       "restecg     0\n",
       "thalach     0\n",
       "exang       0\n",
       "oldpeak     0\n",
       "slope       0\n",
       "ca          4\n",
       "thal        2\n",
       "num         0\n",
       "dtype: int64"
      ]
     },
     "execution_count": 16,
     "metadata": {},
     "output_type": "execute_result"
    }
   ],
   "source": [
    "df.isnull().sum()"
   ]
  },
  {
   "cell_type": "markdown",
   "id": "17d87344",
   "metadata": {},
   "source": [
    "We changed invalid values in \"ca\" and \"thal\" with nan.\n",
    "Now we have NaN values in it.So replace it with median"
   ]
  },
  {
   "cell_type": "code",
   "execution_count": 17,
   "id": "8b7c31dd",
   "metadata": {},
   "outputs": [],
   "source": [
    "df=df.fillna(df.median())"
   ]
  },
  {
   "cell_type": "code",
   "execution_count": 18,
   "id": "c40b92f7",
   "metadata": {},
   "outputs": [
    {
     "data": {
      "text/plain": [
       "age         0\n",
       "sex         0\n",
       "cp          0\n",
       "trestbps    0\n",
       "chol        0\n",
       "fbs         0\n",
       "restecg     0\n",
       "thalach     0\n",
       "exang       0\n",
       "oldpeak     0\n",
       "slope       0\n",
       "ca          0\n",
       "thal        0\n",
       "num         0\n",
       "dtype: int64"
      ]
     },
     "execution_count": 18,
     "metadata": {},
     "output_type": "execute_result"
    }
   ],
   "source": [
    "df.isnull().sum()"
   ]
  },
  {
   "cell_type": "code",
   "execution_count": 19,
   "id": "0d84522a",
   "metadata": {},
   "outputs": [
    {
     "data": {
      "text/plain": [
       "array([6., 3., 7.])"
      ]
     },
     "execution_count": 19,
     "metadata": {},
     "output_type": "execute_result"
    }
   ],
   "source": [
    "df['thal'].unique()"
   ]
  },
  {
   "cell_type": "code",
   "execution_count": 20,
   "id": "f57911cb",
   "metadata": {},
   "outputs": [
    {
     "data": {
      "text/plain": [
       "array([0., 3., 2., 1.])"
      ]
     },
     "execution_count": 20,
     "metadata": {},
     "output_type": "execute_result"
    }
   ],
   "source": [
    "df['ca'].unique()"
   ]
  },
  {
   "cell_type": "markdown",
   "id": "435fcc0f",
   "metadata": {},
   "source": [
    "### HERE WE ARE CHANGING NUMERICAL VARIABLES INTO CATEGORICAL VALUES FOR EASY VISUALIZATION"
   ]
  },
  {
   "cell_type": "code",
   "execution_count": 21,
   "id": "9626cc03",
   "metadata": {},
   "outputs": [],
   "source": [
    "df['num'] = df.num.replace({1: \"Disease\", 0: \"No_disease\"})\n",
    "df['sex'] = df.sex.replace({1: \"Male\", 0: \"Female\"})\n",
    "df['cp'] = df.cp.replace({1: \"typical_angina\", \n",
    "                          2: \"atypical_angina\", \n",
    "                          3:\"non-anginal pain\",\n",
    "                          4: \"asymtomatic\"})\n",
    "df['slope'] = df.slope.replace({1: \"upsloping\", 2: \"flat\",3:\"downsloping\"})\n",
    "df['thal'] = df.thal.replace({6: \"fixed_defect\", 3: \"reversable_defect\", 7:\"normal\"})"
   ]
  },
  {
   "cell_type": "code",
   "execution_count": 22,
   "id": "188fbdcc",
   "metadata": {},
   "outputs": [
    {
     "data": {
      "text/html": [
       "<div>\n",
       "<style scoped>\n",
       "    .dataframe tbody tr th:only-of-type {\n",
       "        vertical-align: middle;\n",
       "    }\n",
       "\n",
       "    .dataframe tbody tr th {\n",
       "        vertical-align: top;\n",
       "    }\n",
       "\n",
       "    .dataframe thead th {\n",
       "        text-align: right;\n",
       "    }\n",
       "</style>\n",
       "<table border=\"1\" class=\"dataframe\">\n",
       "  <thead>\n",
       "    <tr style=\"text-align: right;\">\n",
       "      <th></th>\n",
       "      <th>age</th>\n",
       "      <th>sex</th>\n",
       "      <th>cp</th>\n",
       "      <th>trestbps</th>\n",
       "      <th>chol</th>\n",
       "      <th>fbs</th>\n",
       "      <th>restecg</th>\n",
       "      <th>thalach</th>\n",
       "      <th>exang</th>\n",
       "      <th>oldpeak</th>\n",
       "      <th>slope</th>\n",
       "      <th>ca</th>\n",
       "      <th>thal</th>\n",
       "      <th>num</th>\n",
       "    </tr>\n",
       "  </thead>\n",
       "  <tbody>\n",
       "    <tr>\n",
       "      <th>0</th>\n",
       "      <td>63</td>\n",
       "      <td>Male</td>\n",
       "      <td>typical_angina</td>\n",
       "      <td>145</td>\n",
       "      <td>233</td>\n",
       "      <td>1</td>\n",
       "      <td>2</td>\n",
       "      <td>150</td>\n",
       "      <td>0</td>\n",
       "      <td>2.3</td>\n",
       "      <td>downsloping</td>\n",
       "      <td>0.0</td>\n",
       "      <td>fixed_defect</td>\n",
       "      <td>No_disease</td>\n",
       "    </tr>\n",
       "    <tr>\n",
       "      <th>1</th>\n",
       "      <td>67</td>\n",
       "      <td>Male</td>\n",
       "      <td>asymtomatic</td>\n",
       "      <td>160</td>\n",
       "      <td>286</td>\n",
       "      <td>0</td>\n",
       "      <td>2</td>\n",
       "      <td>108</td>\n",
       "      <td>1</td>\n",
       "      <td>1.5</td>\n",
       "      <td>flat</td>\n",
       "      <td>3.0</td>\n",
       "      <td>reversable_defect</td>\n",
       "      <td>Disease</td>\n",
       "    </tr>\n",
       "    <tr>\n",
       "      <th>2</th>\n",
       "      <td>67</td>\n",
       "      <td>Male</td>\n",
       "      <td>asymtomatic</td>\n",
       "      <td>120</td>\n",
       "      <td>229</td>\n",
       "      <td>0</td>\n",
       "      <td>2</td>\n",
       "      <td>129</td>\n",
       "      <td>1</td>\n",
       "      <td>2.6</td>\n",
       "      <td>flat</td>\n",
       "      <td>2.0</td>\n",
       "      <td>normal</td>\n",
       "      <td>Disease</td>\n",
       "    </tr>\n",
       "    <tr>\n",
       "      <th>3</th>\n",
       "      <td>37</td>\n",
       "      <td>Male</td>\n",
       "      <td>non-anginal pain</td>\n",
       "      <td>130</td>\n",
       "      <td>250</td>\n",
       "      <td>0</td>\n",
       "      <td>0</td>\n",
       "      <td>187</td>\n",
       "      <td>0</td>\n",
       "      <td>3.5</td>\n",
       "      <td>downsloping</td>\n",
       "      <td>0.0</td>\n",
       "      <td>reversable_defect</td>\n",
       "      <td>No_disease</td>\n",
       "    </tr>\n",
       "    <tr>\n",
       "      <th>4</th>\n",
       "      <td>41</td>\n",
       "      <td>Female</td>\n",
       "      <td>atypical_angina</td>\n",
       "      <td>130</td>\n",
       "      <td>204</td>\n",
       "      <td>0</td>\n",
       "      <td>2</td>\n",
       "      <td>172</td>\n",
       "      <td>0</td>\n",
       "      <td>1.4</td>\n",
       "      <td>upsloping</td>\n",
       "      <td>0.0</td>\n",
       "      <td>reversable_defect</td>\n",
       "      <td>No_disease</td>\n",
       "    </tr>\n",
       "    <tr>\n",
       "      <th>...</th>\n",
       "      <td>...</td>\n",
       "      <td>...</td>\n",
       "      <td>...</td>\n",
       "      <td>...</td>\n",
       "      <td>...</td>\n",
       "      <td>...</td>\n",
       "      <td>...</td>\n",
       "      <td>...</td>\n",
       "      <td>...</td>\n",
       "      <td>...</td>\n",
       "      <td>...</td>\n",
       "      <td>...</td>\n",
       "      <td>...</td>\n",
       "      <td>...</td>\n",
       "    </tr>\n",
       "    <tr>\n",
       "      <th>298</th>\n",
       "      <td>45</td>\n",
       "      <td>Male</td>\n",
       "      <td>typical_angina</td>\n",
       "      <td>110</td>\n",
       "      <td>264</td>\n",
       "      <td>0</td>\n",
       "      <td>0</td>\n",
       "      <td>132</td>\n",
       "      <td>0</td>\n",
       "      <td>1.2</td>\n",
       "      <td>flat</td>\n",
       "      <td>0.0</td>\n",
       "      <td>normal</td>\n",
       "      <td>Disease</td>\n",
       "    </tr>\n",
       "    <tr>\n",
       "      <th>299</th>\n",
       "      <td>68</td>\n",
       "      <td>Male</td>\n",
       "      <td>asymtomatic</td>\n",
       "      <td>144</td>\n",
       "      <td>193</td>\n",
       "      <td>1</td>\n",
       "      <td>0</td>\n",
       "      <td>141</td>\n",
       "      <td>0</td>\n",
       "      <td>3.4</td>\n",
       "      <td>flat</td>\n",
       "      <td>2.0</td>\n",
       "      <td>normal</td>\n",
       "      <td>Disease</td>\n",
       "    </tr>\n",
       "    <tr>\n",
       "      <th>300</th>\n",
       "      <td>57</td>\n",
       "      <td>Male</td>\n",
       "      <td>asymtomatic</td>\n",
       "      <td>130</td>\n",
       "      <td>131</td>\n",
       "      <td>0</td>\n",
       "      <td>0</td>\n",
       "      <td>115</td>\n",
       "      <td>1</td>\n",
       "      <td>1.2</td>\n",
       "      <td>flat</td>\n",
       "      <td>1.0</td>\n",
       "      <td>normal</td>\n",
       "      <td>Disease</td>\n",
       "    </tr>\n",
       "    <tr>\n",
       "      <th>301</th>\n",
       "      <td>57</td>\n",
       "      <td>Female</td>\n",
       "      <td>atypical_angina</td>\n",
       "      <td>130</td>\n",
       "      <td>236</td>\n",
       "      <td>0</td>\n",
       "      <td>2</td>\n",
       "      <td>174</td>\n",
       "      <td>0</td>\n",
       "      <td>0.0</td>\n",
       "      <td>flat</td>\n",
       "      <td>1.0</td>\n",
       "      <td>reversable_defect</td>\n",
       "      <td>Disease</td>\n",
       "    </tr>\n",
       "    <tr>\n",
       "      <th>302</th>\n",
       "      <td>38</td>\n",
       "      <td>Male</td>\n",
       "      <td>non-anginal pain</td>\n",
       "      <td>138</td>\n",
       "      <td>175</td>\n",
       "      <td>0</td>\n",
       "      <td>0</td>\n",
       "      <td>173</td>\n",
       "      <td>0</td>\n",
       "      <td>0.0</td>\n",
       "      <td>upsloping</td>\n",
       "      <td>0.0</td>\n",
       "      <td>reversable_defect</td>\n",
       "      <td>No_disease</td>\n",
       "    </tr>\n",
       "  </tbody>\n",
       "</table>\n",
       "<p>303 rows × 14 columns</p>\n",
       "</div>"
      ],
      "text/plain": [
       "     age     sex                cp  trestbps  chol  fbs  restecg  thalach  \\\n",
       "0     63    Male    typical_angina       145   233    1        2      150   \n",
       "1     67    Male       asymtomatic       160   286    0        2      108   \n",
       "2     67    Male       asymtomatic       120   229    0        2      129   \n",
       "3     37    Male  non-anginal pain       130   250    0        0      187   \n",
       "4     41  Female   atypical_angina       130   204    0        2      172   \n",
       "..   ...     ...               ...       ...   ...  ...      ...      ...   \n",
       "298   45    Male    typical_angina       110   264    0        0      132   \n",
       "299   68    Male       asymtomatic       144   193    1        0      141   \n",
       "300   57    Male       asymtomatic       130   131    0        0      115   \n",
       "301   57  Female   atypical_angina       130   236    0        2      174   \n",
       "302   38    Male  non-anginal pain       138   175    0        0      173   \n",
       "\n",
       "     exang  oldpeak        slope   ca               thal         num  \n",
       "0        0      2.3  downsloping  0.0       fixed_defect  No_disease  \n",
       "1        1      1.5         flat  3.0  reversable_defect     Disease  \n",
       "2        1      2.6         flat  2.0             normal     Disease  \n",
       "3        0      3.5  downsloping  0.0  reversable_defect  No_disease  \n",
       "4        0      1.4    upsloping  0.0  reversable_defect  No_disease  \n",
       "..     ...      ...          ...  ...                ...         ...  \n",
       "298      0      1.2         flat  0.0             normal     Disease  \n",
       "299      0      3.4         flat  2.0             normal     Disease  \n",
       "300      1      1.2         flat  1.0             normal     Disease  \n",
       "301      0      0.0         flat  1.0  reversable_defect     Disease  \n",
       "302      0      0.0    upsloping  0.0  reversable_defect  No_disease  \n",
       "\n",
       "[303 rows x 14 columns]"
      ]
     },
     "execution_count": 22,
     "metadata": {},
     "output_type": "execute_result"
    }
   ],
   "source": [
    "df"
   ]
  },
  {
   "cell_type": "markdown",
   "id": "6f71a116",
   "metadata": {},
   "source": [
    "# Data Visualization"
   ]
  },
  {
   "cell_type": "markdown",
   "id": "43f763f0",
   "metadata": {},
   "source": [
    "### Heart Diseases Population Percentage"
   ]
  },
  {
   "cell_type": "code",
   "execution_count": 23,
   "id": "2e950357",
   "metadata": {},
   "outputs": [],
   "source": [
    "x=df['num'].value_counts()"
   ]
  },
  {
   "cell_type": "code",
   "execution_count": 24,
   "id": "38511bb3",
   "metadata": {},
   "outputs": [
    {
     "data": {
      "image/png": "[encoded data removed]",
      "text/plain": [
       "<Figure size 720x504 with 1 Axes>"
      ]
     },
     "metadata": {},
     "output_type": "display_data"
    }
   ],
   "source": [
    "plt.figure(figsize=(10,7))\n",
    "plt.pie(x, labels=['No_disease','Disease'], autopct='%0.0f%%')\n",
    "plt.title('Heart Disease Population %', fontsize=20)\n",
    "plt.show()"
   ]
  },
  {
   "cell_type": "markdown",
   "id": "4f7fb6aa",
   "metadata": {},
   "source": [
    "From the overall population, 46% people having heart disease & 56% people having no heart disease"
   ]
  },
  {
   "cell_type": "code",
   "execution_count": 25,
   "id": "06a54911",
   "metadata": {},
   "outputs": [
    {
     "data": {
      "image/png": "[encoded data removed]",
      "text/plain": [
       "<Figure size 1080x504 with 1 Axes>"
      ]
     },
     "metadata": {
      "needs_background": "light"
     },
     "output_type": "display_data"
    }
   ],
   "source": [
    "#Countplot of Population Age\n",
    "\n",
    "plt.figure(figsize=(15,7))\n",
    "sns.countplot(x='age', data=df)\n",
    "plt.title('Population Age', fontsize=17)\n",
    "plt.xlabel('Age', fontsize=15)\n",
    "plt.ylabel('Count', fontsize=15)\n",
    "plt.show()"
   ]
  },
  {
   "cell_type": "markdown",
   "id": "9e863c58",
   "metadata": {},
   "source": [
    "#### By Observation, we can divided age into the 3 Age_Range 'elder_age','middle-age', 'young_age'."
   ]
  },
  {
   "cell_type": "code",
   "execution_count": 26,
   "id": "431a79b5",
   "metadata": {},
   "outputs": [
    {
     "name": "stdout",
     "output_type": "stream",
     "text": [
      "Minimum Age = 29\n",
      "Maximum Age = 77\n",
      "Mean Age = 54.43894389438944\n"
     ]
    }
   ],
   "source": [
    "#Statistical Analysis\n",
    "\n",
    "Min_Age=df['age'].min()\n",
    "Max_Age=df['age'].max()\n",
    "Mean_Age=df['age'].mean()\n",
    "print(\"Minimum Age =\",Min_Age)\n",
    "print(\"Maximum Age =\",Max_Age)\n",
    "print(\"Mean Age =\",Mean_Age)"
   ]
  },
  {
   "cell_type": "code",
   "execution_count": 27,
   "id": "ba59749f",
   "metadata": {},
   "outputs": [
    {
     "name": "stdout",
     "output_type": "stream",
     "text": [
      "Young Age = 15\n",
      "Middle Age = 128\n",
      "Elder Age = 152\n"
     ]
    }
   ],
   "source": [
    "#Categorical Analysis\n",
    "\n",
    "Young_Age=df[(df['age']>=29) & (df['age']<40)]\n",
    "Middle_Age=df[(df['age']>=40) & (df['age']<55)]\n",
    "Elder_Age=df[(df['age']>55)]\n",
    "print('Young Age =',len(Young_Age))\n",
    "print('Middle Age =',len(Middle_Age))\n",
    "print('Elder Age =',len(Elder_Age))"
   ]
  },
  {
   "cell_type": "code",
   "execution_count": 28,
   "id": "df30a6cb",
   "metadata": {},
   "outputs": [],
   "source": [
    "#Converting Numerical Data into Categorical Data\n",
    "\n",
    "def age_range(row):\n",
    "    if row>=29 and row<40:\n",
    "        return 'Young_Age'\n",
    "    elif row>=40 and row<55:\n",
    "        return 'Middle_Age'\n",
    "    elif row>55:\n",
    "        return 'Elder_Age'"
   ]
  },
  {
   "cell_type": "code",
   "execution_count": 29,
   "id": "8db685e2",
   "metadata": {},
   "outputs": [
    {
     "data": {
      "text/html": [
       "<div>\n",
       "<style scoped>\n",
       "    .dataframe tbody tr th:only-of-type {\n",
       "        vertical-align: middle;\n",
       "    }\n",
       "\n",
       "    .dataframe tbody tr th {\n",
       "        vertical-align: top;\n",
       "    }\n",
       "\n",
       "    .dataframe thead th {\n",
       "        text-align: right;\n",
       "    }\n",
       "</style>\n",
       "<table border=\"1\" class=\"dataframe\">\n",
       "  <thead>\n",
       "    <tr style=\"text-align: right;\">\n",
       "      <th></th>\n",
       "      <th>age</th>\n",
       "      <th>sex</th>\n",
       "      <th>cp</th>\n",
       "      <th>trestbps</th>\n",
       "      <th>chol</th>\n",
       "      <th>fbs</th>\n",
       "      <th>restecg</th>\n",
       "      <th>thalach</th>\n",
       "      <th>exang</th>\n",
       "      <th>oldpeak</th>\n",
       "      <th>slope</th>\n",
       "      <th>ca</th>\n",
       "      <th>thal</th>\n",
       "      <th>num</th>\n",
       "      <th>Age_Range</th>\n",
       "    </tr>\n",
       "  </thead>\n",
       "  <tbody>\n",
       "    <tr>\n",
       "      <th>0</th>\n",
       "      <td>63</td>\n",
       "      <td>Male</td>\n",
       "      <td>typical_angina</td>\n",
       "      <td>145</td>\n",
       "      <td>233</td>\n",
       "      <td>1</td>\n",
       "      <td>2</td>\n",
       "      <td>150</td>\n",
       "      <td>0</td>\n",
       "      <td>2.3</td>\n",
       "      <td>downsloping</td>\n",
       "      <td>0.0</td>\n",
       "      <td>fixed_defect</td>\n",
       "      <td>No_disease</td>\n",
       "      <td>Elder_Age</td>\n",
       "    </tr>\n",
       "    <tr>\n",
       "      <th>1</th>\n",
       "      <td>67</td>\n",
       "      <td>Male</td>\n",
       "      <td>asymtomatic</td>\n",
       "      <td>160</td>\n",
       "      <td>286</td>\n",
       "      <td>0</td>\n",
       "      <td>2</td>\n",
       "      <td>108</td>\n",
       "      <td>1</td>\n",
       "      <td>1.5</td>\n",
       "      <td>flat</td>\n",
       "      <td>3.0</td>\n",
       "      <td>reversable_defect</td>\n",
       "      <td>Disease</td>\n",
       "      <td>Elder_Age</td>\n",
       "    </tr>\n",
       "    <tr>\n",
       "      <th>2</th>\n",
       "      <td>67</td>\n",
       "      <td>Male</td>\n",
       "      <td>asymtomatic</td>\n",
       "      <td>120</td>\n",
       "      <td>229</td>\n",
       "      <td>0</td>\n",
       "      <td>2</td>\n",
       "      <td>129</td>\n",
       "      <td>1</td>\n",
       "      <td>2.6</td>\n",
       "      <td>flat</td>\n",
       "      <td>2.0</td>\n",
       "      <td>normal</td>\n",
       "      <td>Disease</td>\n",
       "      <td>Elder_Age</td>\n",
       "    </tr>\n",
       "    <tr>\n",
       "      <th>3</th>\n",
       "      <td>37</td>\n",
       "      <td>Male</td>\n",
       "      <td>non-anginal pain</td>\n",
       "      <td>130</td>\n",
       "      <td>250</td>\n",
       "      <td>0</td>\n",
       "      <td>0</td>\n",
       "      <td>187</td>\n",
       "      <td>0</td>\n",
       "      <td>3.5</td>\n",
       "      <td>downsloping</td>\n",
       "      <td>0.0</td>\n",
       "      <td>reversable_defect</td>\n",
       "      <td>No_disease</td>\n",
       "      <td>Young_Age</td>\n",
       "    </tr>\n",
       "    <tr>\n",
       "      <th>4</th>\n",
       "      <td>41</td>\n",
       "      <td>Female</td>\n",
       "      <td>atypical_angina</td>\n",
       "      <td>130</td>\n",
       "      <td>204</td>\n",
       "      <td>0</td>\n",
       "      <td>2</td>\n",
       "      <td>172</td>\n",
       "      <td>0</td>\n",
       "      <td>1.4</td>\n",
       "      <td>upsloping</td>\n",
       "      <td>0.0</td>\n",
       "      <td>reversable_defect</td>\n",
       "      <td>No_disease</td>\n",
       "      <td>Middle_Age</td>\n",
       "    </tr>\n",
       "  </tbody>\n",
       "</table>\n",
       "</div>"
      ],
      "text/plain": [
       "   age     sex                cp  trestbps  chol  fbs  restecg  thalach  \\\n",
       "0   63    Male    typical_angina       145   233    1        2      150   \n",
       "1   67    Male       asymtomatic       160   286    0        2      108   \n",
       "2   67    Male       asymtomatic       120   229    0        2      129   \n",
       "3   37    Male  non-anginal pain       130   250    0        0      187   \n",
       "4   41  Female   atypical_angina       130   204    0        2      172   \n",
       "\n",
       "   exang  oldpeak        slope   ca               thal         num   Age_Range  \n",
       "0      0      2.3  downsloping  0.0       fixed_defect  No_disease   Elder_Age  \n",
       "1      1      1.5         flat  3.0  reversable_defect     Disease   Elder_Age  \n",
       "2      1      2.6         flat  2.0             normal     Disease   Elder_Age  \n",
       "3      0      3.5  downsloping  0.0  reversable_defect  No_disease   Young_Age  \n",
       "4      0      1.4    upsloping  0.0  reversable_defect  No_disease  Middle_Age  "
      ]
     },
     "execution_count": 29,
     "metadata": {},
     "output_type": "execute_result"
    }
   ],
   "source": [
    "df['Age_Range']=df['age'].apply(age_range)\n",
    "df.head()"
   ]
  },
  {
   "cell_type": "code",
   "execution_count": 31,
   "id": "28e6c5b4",
   "metadata": {},
   "outputs": [
    {
     "data": {
      "text/plain": [
       "Elder_Age     152\n",
       "Middle_Age    128\n",
       "Young_Age      15\n",
       "Name: Age_Range, dtype: int64"
      ]
     },
     "execution_count": 31,
     "metadata": {},
     "output_type": "execute_result"
    }
   ],
   "source": [
    "df['Age_Range'].value_counts()"
   ]
  },
  {
   "cell_type": "code",
   "execution_count": 32,
   "id": "81563178",
   "metadata": {},
   "outputs": [
    {
     "data": {
      "image/png": "[encoded data removed]",
      "text/plain": [
       "<Figure size 504x360 with 1 Axes>"
      ]
     },
     "metadata": {
      "needs_background": "light"
     },
     "output_type": "display_data"
    }
   ],
   "source": [
    "#Heart Disease Based On Age Category\n",
    "\n",
    "plt.figure(figsize=(7,5))\n",
    "sns.countplot(x='num', hue='Age_Range', data=df, hue_order=['Young_Age', 'Middle_Age','Elder_Age'])\n",
    "plt.title('Heart Disease Based On Age Category', fontsize=17)\n",
    "plt.xlabel('Heart Disease', fontsize=15)\n",
    "plt.ylabel('Counts', fontsize=15)\n",
    "plt.show()"
   ]
  },
  {
   "cell_type": "markdown",
   "id": "fdbc6668",
   "metadata": {},
   "source": [
    "Elder Age People are most affected by Heart Disease & Middle Age People are mostly FREE from any kind of Disease"
   ]
  },
  {
   "cell_type": "code",
   "execution_count": 33,
   "id": "e5bd9042",
   "metadata": {},
   "outputs": [
    {
     "data": {
      "image/png": "[encoded data removed]",
      "text/plain": [
       "<Figure size 504x360 with 1 Axes>"
      ]
     },
     "metadata": {
      "needs_background": "light"
     },
     "output_type": "display_data"
    }
   ],
   "source": [
    "# Heart Disease Based On Gender\n",
    "plt.figure(figsize=(7,5))\n",
    "sns.countplot(x='num',hue='sex',data=df)\n",
    "plt.xlabel('Heart Disease',fontsize=14)\n",
    "plt.title('Heart Disease Based On Gender',fontsize=15)\n",
    "plt.show()"
   ]
  },
  {
   "cell_type": "markdown",
   "id": "b086c45e",
   "metadata": {},
   "source": [
    "Males are more prone to Heart Disease"
   ]
  },
  {
   "cell_type": "markdown",
   "id": "e250e87f",
   "metadata": {},
   "source": [
    "# Analysis On Chest Pain"
   ]
  },
  {
   "cell_type": "code",
   "execution_count": 34,
   "id": "cc9a8111",
   "metadata": {},
   "outputs": [
    {
     "data": {
      "image/png": "[encoded data removed]",
      "text/plain": [
       "<Figure size 504x360 with 1 Axes>"
      ]
     },
     "metadata": {
      "needs_background": "light"
     },
     "output_type": "display_data"
    }
   ],
   "source": [
    "# Chest Pain Experienced based on presence or absence of disease\n",
    "\n",
    "plt.figure(figsize=(7,5))\n",
    "sns.countplot(x='num',hue='cp',data=df)\n",
    "plt.xlabel('Heart Disease',fontsize=14)\n",
    "plt.title('Chest Pain Experienced based on presence/absence of disease',fontsize=15)\n",
    "plt.show()"
   ]
  },
  {
   "cell_type": "markdown",
   "id": "8c4dc2cc",
   "metadata": {},
   "source": [
    "People having asymptomatic chest pain have a higher chance of heart disease"
   ]
  },
  {
   "cell_type": "code",
   "execution_count": 35,
   "id": "6b76adae",
   "metadata": {},
   "outputs": [
    {
     "data": {
      "image/png": "[encoded data removed]",
      "text/plain": [
       "<Figure size 504x360 with 1 Axes>"
      ]
     },
     "metadata": {
      "needs_background": "light"
     },
     "output_type": "display_data"
    }
   ],
   "source": [
    "# Chest Pain Experienced based on Age\n",
    "\n",
    "plt.figure(figsize=(7,5))\n",
    "sns.countplot(x='Age_Range',hue='cp',data=df,order=['Young_Age','Middle_Age','Elder_Age'])\n",
    "plt.xlabel('Age Range',fontsize=14)\n",
    "plt.title('Chest Pain Experienced Based On Age',fontsize=15)\n",
    "plt.show()"
   ]
  },
  {
   "cell_type": "markdown",
   "id": "e3c78fdb",
   "metadata": {},
   "source": [
    "Higher number of Asymptomatic Pain in Elderly age"
   ]
  },
  {
   "cell_type": "code",
   "execution_count": 36,
   "id": "505ad7ba",
   "metadata": {},
   "outputs": [
    {
     "data": {
      "image/png": "[encoded data removed]",
      "text/plain": [
       "<Figure size 504x360 with 1 Axes>"
      ]
     },
     "metadata": {
      "needs_background": "light"
     },
     "output_type": "display_data"
    }
   ],
   "source": [
    "# Chest Pain Experienced based on Gender\n",
    "\n",
    "plt.figure(figsize=(7,5))\n",
    "sns.countplot(x='sex',hue='cp',data=df)\n",
    "plt.xlabel('Gender',fontsize=14)\n",
    "plt.title('Chest Pain Experienced Based On Gender',fontsize=15)\n",
    "plt.show()"
   ]
  },
  {
   "cell_type": "markdown",
   "id": "b45b5651",
   "metadata": {},
   "source": [
    "Higher number of men are suffering from Asymptomatic type of Chest Pain"
   ]
  },
  {
   "cell_type": "markdown",
   "id": "8cac01f9",
   "metadata": {},
   "source": [
    "## Analysis On Blood Pressure"
   ]
  },
  {
   "cell_type": "code",
   "execution_count": 37,
   "id": "b509ba03",
   "metadata": {},
   "outputs": [
    {
     "data": {
      "image/png": "[encoded data removed]",
      "text/plain": [
       "<Figure size 432x288 with 1 Axes>"
      ]
     },
     "metadata": {
      "needs_background": "light"
     },
     "output_type": "display_data"
    }
   ],
   "source": [
    "# Blood Pressure Based on Gender\n",
    "\n",
    "sns.barplot(x='sex', y='trestbps', data=df)\n",
    "plt.title(\"Blood Pressure Based On Gender\", fontsize=15)\n",
    "plt.xlabel('Gender',fontsize=14)\n",
    "plt.ylabel(\"Blood Pressure (mm Hg)\", fontsize=12)\n",
    "plt.show()"
   ]
  },
  {
   "cell_type": "markdown",
   "id": "e5de2384",
   "metadata": {},
   "source": [
    "Blood Pressure Rate is almost equal in Males and Females"
   ]
  },
  {
   "cell_type": "code",
   "execution_count": 38,
   "id": "3f040420",
   "metadata": {},
   "outputs": [
    {
     "data": {
      "image/png": "[encoded data removed]",
      "text/plain": [
       "<Figure size 432x288 with 1 Axes>"
      ]
     },
     "metadata": {
      "needs_background": "light"
     },
     "output_type": "display_data"
    }
   ],
   "source": [
    "# Blood Pressure Based on Presence/Absence Disease\n",
    "\n",
    "sns.barplot(x='num', y='trestbps', data=df)\n",
    "plt.title(\"Blood Pressure Based on Presence/Absence Disease\", fontsize=15)\n",
    "plt.xlabel('Heart Disease',fontsize=14)\n",
    "plt.ylabel(\"Blood Pressure (mm Hg)\", fontsize=12)\n",
    "plt.show()"
   ]
  },
  {
   "cell_type": "markdown",
   "id": "e271067e",
   "metadata": {},
   "source": [
    "Higher Blood Pressure Level Have Chances Of Heart Disease"
   ]
  },
  {
   "cell_type": "code",
   "execution_count": 39,
   "id": "c44c92e7",
   "metadata": {},
   "outputs": [
    {
     "data": {
      "image/png": "[encoded data removed]",
      "text/plain": [
       "<Figure size 432x288 with 1 Axes>"
      ]
     },
     "metadata": {
      "needs_background": "light"
     },
     "output_type": "display_data"
    }
   ],
   "source": [
    "# Blood Pressure Based on Age\n",
    "\n",
    "sns.lineplot(x='age', y='trestbps', data=df)\n",
    "plt.title('Blood Pressure VS Age', fontsize=15)\n",
    "plt.xlabel('Age', fontsize=14)\n",
    "plt.ylabel('Blood Pressure', fontsize=14)\n",
    "plt.show()"
   ]
  },
  {
   "cell_type": "markdown",
   "id": "dcdbd660",
   "metadata": {},
   "source": [
    "Blood Pressure increases between age of 50 to 60 and continue till 70"
   ]
  },
  {
   "cell_type": "markdown",
   "id": "fca26f93",
   "metadata": {},
   "source": [
    "## Analysis On Cholestrol Level"
   ]
  },
  {
   "cell_type": "code",
   "execution_count": 40,
   "id": "2e826da3",
   "metadata": {},
   "outputs": [
    {
     "data": {
      "image/png": "[encoded data removed]",
      "text/plain": [
       "<Figure size 432x288 with 1 Axes>"
      ]
     },
     "metadata": {
      "needs_background": "light"
     },
     "output_type": "display_data"
    }
   ],
   "source": [
    "# Cholestrol Level Based On Gender\n",
    "\n",
    "sns.barplot(x='sex', y='chol', data=df)\n",
    "plt.title(\"Cholestrol Level Based On Gender\", fontsize=15)\n",
    "plt.xlabel('Gender',fontsize=14)\n",
    "plt.ylabel(\"Cholestrol\", fontsize=15)\n",
    "plt.show()"
   ]
  },
  {
   "cell_type": "markdown",
   "id": "96ab9f06",
   "metadata": {},
   "source": [
    "Cholestrol Level higher in female than male"
   ]
  },
  {
   "cell_type": "code",
   "execution_count": 41,
   "id": "3b39f560",
   "metadata": {},
   "outputs": [
    {
     "data": {
      "image/png": "[encoded data removed]",
      "text/plain": [
       "<Figure size 432x288 with 1 Axes>"
      ]
     },
     "metadata": {
      "needs_background": "light"
     },
     "output_type": "display_data"
    }
   ],
   "source": [
    "# Cholestrol Level Based on Presence/Absence Disease\n",
    "\n",
    "sns.barplot(x='num', y='chol', data=df)\n",
    "plt.title(\"Cholestrol Level Based on Presence/Absence Disease\", fontsize=15)\n",
    "plt.xlabel('Heart Disease',fontsize=14)\n",
    "plt.ylabel(\"Cholestrol Leve;\", fontsize=12)\n",
    "plt.show()"
   ]
  },
  {
   "cell_type": "raw",
   "id": "4137f288",
   "metadata": {},
   "source": [
    "Higher Cholestrol Level have chances of heart disease"
   ]
  },
  {
   "cell_type": "code",
   "execution_count": 42,
   "id": "7101faa0",
   "metadata": {},
   "outputs": [
    {
     "data": {
      "image/png": "[encoded data removed]",
      "text/plain": [
       "<Figure size 432x288 with 1 Axes>"
      ]
     },
     "metadata": {
      "needs_background": "light"
     },
     "output_type": "display_data"
    }
   ],
   "source": [
    "# Cholestrol Level Based on Age\n",
    "\n",
    "sns.lineplot(x='age', y='chol', data=df)\n",
    "plt.title(\"Cholestrol Level Based on Age\", fontsize=15)\n",
    "plt.xlabel('Age',fontsize=14)\n",
    "plt.ylabel(\"Cholestrol Level\", fontsize=12)\n",
    "plt.show()"
   ]
  },
  {
   "cell_type": "markdown",
   "id": "da0fe645",
   "metadata": {},
   "source": [
    "Cholestrol Increasing after age of 50"
   ]
  },
  {
   "cell_type": "markdown",
   "id": "614ed9f6",
   "metadata": {},
   "source": [
    "## Analysis On ST Depression"
   ]
  },
  {
   "cell_type": "code",
   "execution_count": 43,
   "id": "850d70e0",
   "metadata": {},
   "outputs": [
    {
     "data": {
      "image/png": "[encoded data removed]",
      "text/plain": [
       "<Figure size 432x288 with 1 Axes>"
      ]
     },
     "metadata": {
      "needs_background": "light"
     },
     "output_type": "display_data"
    }
   ],
   "source": [
    "#ST Depression Based On Gender\n",
    "\n",
    "sns.barplot(x='sex', y='oldpeak', data=df)\n",
    "plt.title('ST depression Based On Gender', fontsize=15)\n",
    "plt.xlabel('Gender', fontsize=14)\n",
    "plt.ylabel('ST depression', fontsize=14)\n",
    "plt.show()"
   ]
  },
  {
   "cell_type": "markdown",
   "id": "1396a31f",
   "metadata": {},
   "source": [
    "ST Depression More in male than female"
   ]
  },
  {
   "cell_type": "code",
   "execution_count": 44,
   "id": "7216cedd",
   "metadata": {},
   "outputs": [
    {
     "data": {
      "image/png": "[encoded data removed]",
      "text/plain": [
       "<Figure size 432x288 with 1 Axes>"
      ]
     },
     "metadata": {
      "needs_background": "light"
     },
     "output_type": "display_data"
    }
   ],
   "source": [
    "# ST depression Based On Presence/Absence Disease\n",
    "\n",
    "sns.barplot(x='num', y='oldpeak', data=df)\n",
    "plt.title('ST depression Based On Presence/Absence Disease', fontsize=15)\n",
    "plt.xlabel('Heart Disease', fontsize=14)\n",
    "plt.ylabel('ST depression', fontsize=14)\n",
    "plt.show()"
   ]
  },
  {
   "cell_type": "markdown",
   "id": "aa3514e7",
   "metadata": {},
   "source": [
    "High ST Depression have chances of heart disease"
   ]
  },
  {
   "cell_type": "code",
   "execution_count": 45,
   "id": "5611a89b",
   "metadata": {},
   "outputs": [
    {
     "data": {
      "image/png": "[encoded data removed]",
      "text/plain": [
       "<Figure size 432x288 with 1 Axes>"
      ]
     },
     "metadata": {
      "needs_background": "light"
     },
     "output_type": "display_data"
    }
   ],
   "source": [
    "# ST depression Based On Age\n",
    "\n",
    "sns.lineplot(x='age', y='oldpeak', data=df,color='r')\n",
    "plt.title('ST depression Based On Age', fontsize=17)\n",
    "plt.xlabel('age', fontsize=15)\n",
    "plt.ylabel('ST depression', fontsize=15)\n",
    "plt.show()"
   ]
  },
  {
   "cell_type": "markdown",
   "id": "38b907b5",
   "metadata": {},
   "source": [
    "ST Depression mostly increases between the age group of 30-40"
   ]
  },
  {
   "cell_type": "markdown",
   "id": "761cd430",
   "metadata": {},
   "source": [
    "## Analysis On Max Heart Rate"
   ]
  },
  {
   "cell_type": "code",
   "execution_count": 46,
   "id": "8c2b89e8",
   "metadata": {},
   "outputs": [
    {
     "data": {
      "image/png": "[encoded data removed]",
      "text/plain": [
       "<Figure size 432x288 with 1 Axes>"
      ]
     },
     "metadata": {
      "needs_background": "light"
     },
     "output_type": "display_data"
    }
   ],
   "source": [
    "# Max Heart Rate Based On Heart Disease\n",
    "\n",
    "sns.barplot(x='num', y='thalach', data=df, palette='viridis')\n",
    "plt.title(\"Max Heart Rate Based On Heart Disease\", fontsize=17)\n",
    "plt.xlabel('Disease',fontsize=15)\n",
    "plt.ylabel(\"Max Heart Rate\", fontsize=12)\n",
    "plt.show()"
   ]
  },
  {
   "cell_type": "markdown",
   "id": "82d3c70f",
   "metadata": {},
   "source": [
    "Higher Blood Pressure Level results Chances Of Heart Disease"
   ]
  },
  {
   "cell_type": "code",
   "execution_count": 47,
   "id": "dd6e8bc6",
   "metadata": {},
   "outputs": [
    {
     "data": {
      "image/png": "[encoded data removed]",
      "text/plain": [
       "<Figure size 432x288 with 1 Axes>"
      ]
     },
     "metadata": {
      "needs_background": "light"
     },
     "output_type": "display_data"
    }
   ],
   "source": [
    "#Max Heart Rate Based On Age\n",
    "\n",
    "sns.lineplot(x='age', y='thalach', data=df, palette='plasma')\n",
    "plt.title(\"Max Heart Rate Based On Age\", fontsize=17)\n",
    "plt.xlabel('age',fontsize=15)\n",
    "plt.ylabel(\"Max Heart Rate\", fontsize=12)\n",
    "plt.show()"
   ]
  },
  {
   "cell_type": "markdown",
   "id": "334cf23a",
   "metadata": {},
   "source": [
    "## Analysis On Fasting Blood Sugar"
   ]
  },
  {
   "cell_type": "code",
   "execution_count": 48,
   "id": "a066c761",
   "metadata": {},
   "outputs": [
    {
     "data": {
      "image/png": "[encoded data removed]",
      "text/plain": [
       "<Figure size 504x576 with 1 Axes>"
      ]
     },
     "metadata": {
      "needs_background": "light"
     },
     "output_type": "display_data"
    }
   ],
   "source": [
    "# Fasting Blood Sugar Based on Presence/Absence Disease\n",
    "\n",
    "plt.figure(figsize=(7,8))\n",
    "sns.barplot(x='num',y='fbs',data=df)\n",
    "plt.title(\"Fasting Blood Sugar Based on Presence/Absence Disease\",fontsize=15)\n",
    "plt.xlabel(' Heart Disease',fontsize=14)\n",
    "plt.show()"
   ]
  },
  {
   "cell_type": "markdown",
   "id": "1c20017d",
   "metadata": {},
   "source": [
    "More Fasting Blood Sugar may have chances of heart disease"
   ]
  },
  {
   "cell_type": "code",
   "execution_count": 49,
   "id": "5aac8b09",
   "metadata": {},
   "outputs": [
    {
     "data": {
      "image/png": "[encoded data removed]",
      "text/plain": [
       "<Figure size 504x576 with 1 Axes>"
      ]
     },
     "metadata": {
      "needs_background": "light"
     },
     "output_type": "display_data"
    }
   ],
   "source": [
    "#Fasting Blood Sugar Based on Gender\n",
    "\n",
    "plt.figure(figsize=(7,8))\n",
    "sns.barplot(x='sex',y='fbs',data=df)\n",
    "plt.title(\"Fasting Blood Sugar Based on Gender\",fontsize=15)\n",
    "plt.xlabel(' Heart Disease',fontsize=14)\n",
    "plt.show()"
   ]
  },
  {
   "cell_type": "markdown",
   "id": "d5e1d946",
   "metadata": {},
   "source": [
    "Fasting Blood Sugar more in male than female"
   ]
  },
  {
   "cell_type": "markdown",
   "id": "4340c42e",
   "metadata": {},
   "source": [
    "## Analysis On Excercise Induced Angina"
   ]
  },
  {
   "cell_type": "code",
   "execution_count": 50,
   "id": "3993d353",
   "metadata": {},
   "outputs": [
    {
     "data": {
      "image/png": "[encoded data removed]",
      "text/plain": [
       "<Figure size 504x576 with 1 Axes>"
      ]
     },
     "metadata": {
      "needs_background": "light"
     },
     "output_type": "display_data"
    }
   ],
   "source": [
    "# Exercise Induced Angina Based on Presence/Absence Disease\n",
    "\n",
    "plt.figure(figsize=(7,8))\n",
    "sns.barplot(x='num',y='exang',data=df)\n",
    "plt.title(\"Exercise Induced Angina Based on Presence/Absence Disease\",fontsize=15)\n",
    "plt.xlabel(' Heart Disease',fontsize=14)\n",
    "plt.show()"
   ]
  },
  {
   "cell_type": "markdown",
   "id": "6d818db0",
   "metadata": {},
   "source": [
    "If patient suffer from Angina, he/she may be concerned that exercise will make their symptoms worse"
   ]
  },
  {
   "cell_type": "code",
   "execution_count": 51,
   "id": "c8c6eb6f",
   "metadata": {},
   "outputs": [
    {
     "data": {
      "image/png": "[encoded data removed]",
      "text/plain": [
       "<Figure size 504x576 with 1 Axes>"
      ]
     },
     "metadata": {
      "needs_background": "light"
     },
     "output_type": "display_data"
    }
   ],
   "source": [
    "#Exercise Induced Angina Based on Gender\n",
    "\n",
    "plt.figure(figsize=(7,8))\n",
    "sns.barplot(x='sex',y='exang',data=df)\n",
    "plt.title(\"Exercise Induced Angina Based on Gender\",fontsize=15)\n",
    "plt.xlabel('Gender',fontsize=14)\n",
    "plt.show()"
   ]
  },
  {
   "cell_type": "markdown",
   "id": "f70c8e63",
   "metadata": {},
   "source": [
    " Males have have high Exercise Angina"
   ]
  },
  {
   "cell_type": "markdown",
   "id": "f0bfa147",
   "metadata": {},
   "source": [
    "## Heatmap"
   ]
  },
  {
   "cell_type": "code",
   "execution_count": 52,
   "id": "828015a4",
   "metadata": {},
   "outputs": [
    {
     "data": {
      "text/plain": [
       "<AxesSubplot:>"
      ]
     },
     "execution_count": 52,
     "metadata": {},
     "output_type": "execute_result"
    },
    {
     "data": {
      "image/png": "[encoded data removed]",
      "text/plain": [
       "<Figure size 1152x648 with 2 Axes>"
      ]
     },
     "metadata": {
      "needs_background": "light"
     },
     "output_type": "display_data"
    }
   ],
   "source": [
    "plt.figure(figsize=(16,9))\n",
    "sns.heatmap(df.corr(), annot=True, linewidth=3)"
   ]
  },
  {
   "cell_type": "markdown",
   "id": "87be0661",
   "metadata": {},
   "source": [
    "##### From above observation we conclude <br>\n",
    "1.From the overall population, 46% people having heart disease & 56% people having no heart disease<br>\n",
    "2.Elder Age People are most affected by Heart Disease & Middle Age People are mostly FREE from any kind of Disease<br>\n",
    "3.Males are more prone to Heart Disease than female<br>\n",
    "4.People having asymptomatic chest pain have a higher chance of heart disease<br>\n",
    "5.Elderly Age people have Higher number of Asymptomatic Pain<br>\n",
    "6.Higher Blood Pressure Level Have Chances Of Heart Disease<br>\n",
    "7.Blood Pressure increases between age of 50 to 60 and continue till 70<br>\n",
    "8.Cholestrol Level higher in female than male<br>\n",
    "9.Higher Cholestrol Level have chances of heart disease<br>\n",
    "10.High ST Depression have chances of heart disease<br>\n",
    "11.ST Depression mostly increases between the age group of 30-40<br>\n",
    "12.More Fasting Blood Sugar may have chances of heart disease<br>\n",
    "13.If patient suffer from Angina, he/she may be concerned that exercise will make their symptoms worse<br>"
   ]
  },
  {
   "cell_type": "code",
   "execution_count": 62,
   "id": "2c078f4c",
   "metadata": {},
   "outputs": [
    {
     "data": {
      "text/html": [
       "<div>\n",
       "<style scoped>\n",
       "    .dataframe tbody tr th:only-of-type {\n",
       "        vertical-align: middle;\n",
       "    }\n",
       "\n",
       "    .dataframe tbody tr th {\n",
       "        vertical-align: top;\n",
       "    }\n",
       "\n",
       "    .dataframe thead th {\n",
       "        text-align: right;\n",
       "    }\n",
       "</style>\n",
       "<table border=\"1\" class=\"dataframe\">\n",
       "  <thead>\n",
       "    <tr style=\"text-align: right;\">\n",
       "      <th></th>\n",
       "      <th>age</th>\n",
       "      <th>sex</th>\n",
       "      <th>cp</th>\n",
       "      <th>trestbps</th>\n",
       "      <th>chol</th>\n",
       "      <th>fbs</th>\n",
       "      <th>restecg</th>\n",
       "      <th>thalach</th>\n",
       "      <th>exang</th>\n",
       "      <th>oldpeak</th>\n",
       "      <th>slope</th>\n",
       "      <th>ca</th>\n",
       "      <th>thal</th>\n",
       "      <th>num</th>\n",
       "      <th>Age_Range</th>\n",
       "    </tr>\n",
       "  </thead>\n",
       "  <tbody>\n",
       "    <tr>\n",
       "      <th>0</th>\n",
       "      <td>63</td>\n",
       "      <td>Male</td>\n",
       "      <td>typical_angina</td>\n",
       "      <td>145</td>\n",
       "      <td>233</td>\n",
       "      <td>1</td>\n",
       "      <td>2</td>\n",
       "      <td>150</td>\n",
       "      <td>0</td>\n",
       "      <td>2.3</td>\n",
       "      <td>downsloping</td>\n",
       "      <td>0.0</td>\n",
       "      <td>fixed_defect</td>\n",
       "      <td>No_disease</td>\n",
       "      <td>Elder_Age</td>\n",
       "    </tr>\n",
       "    <tr>\n",
       "      <th>1</th>\n",
       "      <td>67</td>\n",
       "      <td>Male</td>\n",
       "      <td>asymtomatic</td>\n",
       "      <td>160</td>\n",
       "      <td>286</td>\n",
       "      <td>0</td>\n",
       "      <td>2</td>\n",
       "      <td>108</td>\n",
       "      <td>1</td>\n",
       "      <td>1.5</td>\n",
       "      <td>flat</td>\n",
       "      <td>3.0</td>\n",
       "      <td>reversable_defect</td>\n",
       "      <td>Disease</td>\n",
       "      <td>Elder_Age</td>\n",
       "    </tr>\n",
       "    <tr>\n",
       "      <th>2</th>\n",
       "      <td>67</td>\n",
       "      <td>Male</td>\n",
       "      <td>asymtomatic</td>\n",
       "      <td>120</td>\n",
       "      <td>229</td>\n",
       "      <td>0</td>\n",
       "      <td>2</td>\n",
       "      <td>129</td>\n",
       "      <td>1</td>\n",
       "      <td>2.6</td>\n",
       "      <td>flat</td>\n",
       "      <td>2.0</td>\n",
       "      <td>normal</td>\n",
       "      <td>Disease</td>\n",
       "      <td>Elder_Age</td>\n",
       "    </tr>\n",
       "    <tr>\n",
       "      <th>3</th>\n",
       "      <td>37</td>\n",
       "      <td>Male</td>\n",
       "      <td>non-anginal pain</td>\n",
       "      <td>130</td>\n",
       "      <td>250</td>\n",
       "      <td>0</td>\n",
       "      <td>0</td>\n",
       "      <td>187</td>\n",
       "      <td>0</td>\n",
       "      <td>3.5</td>\n",
       "      <td>downsloping</td>\n",
       "      <td>0.0</td>\n",
       "      <td>reversable_defect</td>\n",
       "      <td>No_disease</td>\n",
       "      <td>Young_Age</td>\n",
       "    </tr>\n",
       "    <tr>\n",
       "      <th>4</th>\n",
       "      <td>41</td>\n",
       "      <td>Female</td>\n",
       "      <td>atypical_angina</td>\n",
       "      <td>130</td>\n",
       "      <td>204</td>\n",
       "      <td>0</td>\n",
       "      <td>2</td>\n",
       "      <td>172</td>\n",
       "      <td>0</td>\n",
       "      <td>1.4</td>\n",
       "      <td>upsloping</td>\n",
       "      <td>0.0</td>\n",
       "      <td>reversable_defect</td>\n",
       "      <td>No_disease</td>\n",
       "      <td>Middle_Age</td>\n",
       "    </tr>\n",
       "    <tr>\n",
       "      <th>...</th>\n",
       "      <td>...</td>\n",
       "      <td>...</td>\n",
       "      <td>...</td>\n",
       "      <td>...</td>\n",
       "      <td>...</td>\n",
       "      <td>...</td>\n",
       "      <td>...</td>\n",
       "      <td>...</td>\n",
       "      <td>...</td>\n",
       "      <td>...</td>\n",
       "      <td>...</td>\n",
       "      <td>...</td>\n",
       "      <td>...</td>\n",
       "      <td>...</td>\n",
       "      <td>...</td>\n",
       "    </tr>\n",
       "    <tr>\n",
       "      <th>298</th>\n",
       "      <td>45</td>\n",
       "      <td>Male</td>\n",
       "      <td>typical_angina</td>\n",
       "      <td>110</td>\n",
       "      <td>264</td>\n",
       "      <td>0</td>\n",
       "      <td>0</td>\n",
       "      <td>132</td>\n",
       "      <td>0</td>\n",
       "      <td>1.2</td>\n",
       "      <td>flat</td>\n",
       "      <td>0.0</td>\n",
       "      <td>normal</td>\n",
       "      <td>Disease</td>\n",
       "      <td>Middle_Age</td>\n",
       "    </tr>\n",
       "    <tr>\n",
       "      <th>299</th>\n",
       "      <td>68</td>\n",
       "      <td>Male</td>\n",
       "      <td>asymtomatic</td>\n",
       "      <td>144</td>\n",
       "      <td>193</td>\n",
       "      <td>1</td>\n",
       "      <td>0</td>\n",
       "      <td>141</td>\n",
       "      <td>0</td>\n",
       "      <td>3.4</td>\n",
       "      <td>flat</td>\n",
       "      <td>2.0</td>\n",
       "      <td>normal</td>\n",
       "      <td>Disease</td>\n",
       "      <td>Elder_Age</td>\n",
       "    </tr>\n",
       "    <tr>\n",
       "      <th>300</th>\n",
       "      <td>57</td>\n",
       "      <td>Male</td>\n",
       "      <td>asymtomatic</td>\n",
       "      <td>130</td>\n",
       "      <td>131</td>\n",
       "      <td>0</td>\n",
       "      <td>0</td>\n",
       "      <td>115</td>\n",
       "      <td>1</td>\n",
       "      <td>1.2</td>\n",
       "      <td>flat</td>\n",
       "      <td>1.0</td>\n",
       "      <td>normal</td>\n",
       "      <td>Disease</td>\n",
       "      <td>Elder_Age</td>\n",
       "    </tr>\n",
       "    <tr>\n",
       "      <th>301</th>\n",
       "      <td>57</td>\n",
       "      <td>Female</td>\n",
       "      <td>atypical_angina</td>\n",
       "      <td>130</td>\n",
       "      <td>236</td>\n",
       "      <td>0</td>\n",
       "      <td>2</td>\n",
       "      <td>174</td>\n",
       "      <td>0</td>\n",
       "      <td>0.0</td>\n",
       "      <td>flat</td>\n",
       "      <td>1.0</td>\n",
       "      <td>reversable_defect</td>\n",
       "      <td>Disease</td>\n",
       "      <td>Elder_Age</td>\n",
       "    </tr>\n",
       "    <tr>\n",
       "      <th>302</th>\n",
       "      <td>38</td>\n",
       "      <td>Male</td>\n",
       "      <td>non-anginal pain</td>\n",
       "      <td>138</td>\n",
       "      <td>175</td>\n",
       "      <td>0</td>\n",
       "      <td>0</td>\n",
       "      <td>173</td>\n",
       "      <td>0</td>\n",
       "      <td>0.0</td>\n",
       "      <td>upsloping</td>\n",
       "      <td>0.0</td>\n",
       "      <td>reversable_defect</td>\n",
       "      <td>No_disease</td>\n",
       "      <td>Young_Age</td>\n",
       "    </tr>\n",
       "  </tbody>\n",
       "</table>\n",
       "<p>303 rows × 15 columns</p>\n",
       "</div>"
      ],
      "text/plain": [
       "     age     sex                cp  trestbps  chol  fbs  restecg  thalach  \\\n",
       "0     63    Male    typical_angina       145   233    1        2      150   \n",
       "1     67    Male       asymtomatic       160   286    0        2      108   \n",
       "2     67    Male       asymtomatic       120   229    0        2      129   \n",
       "3     37    Male  non-anginal pain       130   250    0        0      187   \n",
       "4     41  Female   atypical_angina       130   204    0        2      172   \n",
       "..   ...     ...               ...       ...   ...  ...      ...      ...   \n",
       "298   45    Male    typical_angina       110   264    0        0      132   \n",
       "299   68    Male       asymtomatic       144   193    1        0      141   \n",
       "300   57    Male       asymtomatic       130   131    0        0      115   \n",
       "301   57  Female   atypical_angina       130   236    0        2      174   \n",
       "302   38    Male  non-anginal pain       138   175    0        0      173   \n",
       "\n",
       "     exang  oldpeak        slope   ca               thal         num  \\\n",
       "0        0      2.3  downsloping  0.0       fixed_defect  No_disease   \n",
       "1        1      1.5         flat  3.0  reversable_defect     Disease   \n",
       "2        1      2.6         flat  2.0             normal     Disease   \n",
       "3        0      3.5  downsloping  0.0  reversable_defect  No_disease   \n",
       "4        0      1.4    upsloping  0.0  reversable_defect  No_disease   \n",
       "..     ...      ...          ...  ...                ...         ...   \n",
       "298      0      1.2         flat  0.0             normal     Disease   \n",
       "299      0      3.4         flat  2.0             normal     Disease   \n",
       "300      1      1.2         flat  1.0             normal     Disease   \n",
       "301      0      0.0         flat  1.0  reversable_defect     Disease   \n",
       "302      0      0.0    upsloping  0.0  reversable_defect  No_disease   \n",
       "\n",
       "      Age_Range  \n",
       "0     Elder_Age  \n",
       "1     Elder_Age  \n",
       "2     Elder_Age  \n",
       "3     Young_Age  \n",
       "4    Middle_Age  \n",
       "..          ...  \n",
       "298  Middle_Age  \n",
       "299   Elder_Age  \n",
       "300   Elder_Age  \n",
       "301   Elder_Age  \n",
       "302   Young_Age  \n",
       "\n",
       "[303 rows x 15 columns]"
      ]
     },
     "execution_count": 62,
     "metadata": {},
     "output_type": "execute_result"
    }
   ],
   "source": [
    "df"
   ]
  },
  {
   "cell_type": "code",
   "execution_count": 61,
   "id": "913a03e3",
   "metadata": {},
   "outputs": [],
   "source": [
    "df.to_csv(r'C:\\Users\\ASUS\\Desktop\\intership_project\\new_heart_disease.csv',index=False)"
   ]
  },
  {
   "cell_type": "code",
   "execution_count": null,
   "id": "248b2f84",
   "metadata": {},
   "outputs": [],
   "source": []
  }
 ],
 "metadata": {
  "kernelspec": {
   "display_name": "Python 3",
   "language": "python",
   "name": "python3"
  },
  "language_info": {
   "codemirror_mode": {
    "name": "ipython",
    "version": 3
   },
   "file_extension": ".py",
   "mimetype": "text/x-python",
   "name": "python",
   "nbconvert_exporter": "python",
   "pygments_lexer": "ipython3",
   "version": "3.8.8"
  }
 },
 "nbformat": 4,
 "nbformat_minor": 5
}
